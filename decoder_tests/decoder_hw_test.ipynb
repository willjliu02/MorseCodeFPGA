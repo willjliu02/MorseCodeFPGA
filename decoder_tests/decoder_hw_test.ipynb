{
 "cells": [
  {
   "cell_type": "code",
   "execution_count": 1,
   "id": "89444678",
   "metadata": {},
   "outputs": [],
   "source": [
    "from pynq import Overlay\n",
    "import numpy as np\n",
    "import random\n",
    "from pynq import allocate"
   ]
  },
  {
   "cell_type": "code",
   "execution_count": 2,
   "id": "f70591fb",
   "metadata": {},
   "outputs": [
    {
     "data": {
      "application/javascript": [
       "\n",
       "try {\n",
       "require(['notebook/js/codecell'], function(codecell) {\n",
       "  codecell.CodeCell.options_default.highlight_modes[\n",
       "      'magic_text/x-csrc'] = {'reg':[/^%%microblaze/]};\n",
       "  Jupyter.notebook.events.one('kernel_ready.Kernel', function(){\n",
       "      Jupyter.notebook.get_cells().map(function(cell){\n",
       "          if (cell.cell_type == 'code'){ cell.auto_highlight(); } }) ;\n",
       "  });\n",
       "});\n",
       "} catch (e) {};\n"
      ]
     },
     "metadata": {},
     "output_type": "display_data"
    },
    {
     "data": {
      "application/javascript": [
       "\n",
       "try {\n",
       "require(['notebook/js/codecell'], function(codecell) {\n",
       "  codecell.CodeCell.options_default.highlight_modes[\n",
       "      'magic_text/x-csrc'] = {'reg':[/^%%pybind11/]};\n",
       "  Jupyter.notebook.events.one('kernel_ready.Kernel', function(){\n",
       "      Jupyter.notebook.get_cells().map(function(cell){\n",
       "          if (cell.cell_type == 'code'){ cell.auto_highlight(); } }) ;\n",
       "  });\n",
       "});\n",
       "} catch (e) {};\n"
      ]
     },
     "metadata": {},
     "output_type": "display_data"
    }
   ],
   "source": [
    "# stream_overlay = Overlay(\"/home/xilinx/pynq/overlays/fir_filter/fir_filter.bit\")\n",
    "stream_overlay = Overlay(\"/home/xilinx/pynq/overlays/project/decoder/process_next_bit.bit\")\n",
    "# stream_overlay?"
   ]
  },
  {
   "cell_type": "code",
   "execution_count": 3,
   "id": "f9001ae0",
   "metadata": {},
   "outputs": [],
   "source": [
    "dma = stream_overlay.processNextBit.axi_dma"
   ]
  },
  {
   "cell_type": "code",
   "execution_count": 4,
   "id": "5deac65a",
   "metadata": {},
   "outputs": [],
   "source": [
    "input_buffer = None\n",
    "output_buffer = None"
   ]
  },
  {
   "cell_type": "code",
   "execution_count": 5,
   "id": "df0dd1a6",
   "metadata": {},
   "outputs": [],
   "source": [
    "import math"
   ]
  },
  {
   "cell_type": "code",
   "execution_count": 6,
   "id": "6d143bb8",
   "metadata": {},
   "outputs": [
    {
     "name": "stdout",
     "output_type": "stream",
     "text": [
      "[1 0 1 1 1 0 0 0]\n"
     ]
    }
   ],
   "source": [
    "# input_buffer[:] = [random.randint(0, 100) for k in range(11)]\n",
    "bits = [1, 0, 1, 1, 1, 0, 0, 0]\n",
    "length = len(bits)\n",
    "if input_buffer is not None:\n",
    "    del input_buffer\n",
    "if output_buffer is not None:\n",
    "    del output_buffer\n",
    "\n",
    "# output_length = math.ceil(length / 4)\n",
    "input_buffer = allocate(shape=(length,), dtype=np.int32)\n",
    "output_buffer = allocate(shape=(length,), dtype=np.int32)\n",
    "input_buffer[:] = bits[:]\n",
    "print(input_buffer)"
   ]
  },
  {
   "cell_type": "code",
   "execution_count": 7,
   "id": "6307d5a9",
   "metadata": {},
   "outputs": [],
   "source": [
    "def send_data_in():\n",
    "    dma.sendchannel.transfer(input_buffer)\n",
    "    dma.sendchannel.wait()"
   ]
  },
  {
   "cell_type": "code",
   "execution_count": 8,
   "id": "3f4fd892",
   "metadata": {},
   "outputs": [],
   "source": [
    "def recv_data_out():\n",
    "    dma.recvchannel.transfer(output_buffer)\n",
    "    dma.recvchannel.wait()"
   ]
  },
  {
   "cell_type": "code",
   "execution_count": 9,
   "id": "acf7946a",
   "metadata": {},
   "outputs": [],
   "source": [
    "def run_kernel():\n",
    "    send_data_in()\n",
    "    recv_data_out()"
   ]
  },
  {
   "cell_type": "code",
   "execution_count": 10,
   "id": "3086329a",
   "metadata": {},
   "outputs": [
    {
     "name": "stdout",
     "output_type": "stream",
     "text": [
      "[1 0 1 1 1 0 0 0]\n",
      "[1 0 1 1 1 0 0 0]\n"
     ]
    }
   ],
   "source": [
    "# dma.sendchannel.start()\n",
    "print(input_buffer)\n",
    "dma.sendchannel.transfer(input_buffer)\n",
    "dma.sendchannel.wait()\n",
    "print(input_buffer)"
   ]
  },
  {
   "cell_type": "code",
   "execution_count": 11,
   "id": "8c41fe92",
   "metadata": {
    "slideshow": {
     "slide_type": ""
    }
   },
   "outputs": [
    {
     "name": "stdout",
     "output_type": "stream",
     "text": [
      "[0 0 0 0 0 0 0 0]\n",
      "[0 1 1 4 0 0 0 0]\n"
     ]
    }
   ],
   "source": [
    "# dma.recvchannel.start()\n",
    "print(output_buffer)\n",
    "dma.recvchannel.transfer(output_buffer)\n",
    "dma.recvchannel.wait()\n",
    "print(output_buffer)"
   ]
  },
  {
   "cell_type": "code",
   "execution_count": 12,
   "id": "f4d5d973",
   "metadata": {},
   "outputs": [],
   "source": [
    "# run_kernel()\n",
    "letters = [5, 20, 9, 1, 14, 13, 19, 21, 18, 23, 4, 11, 7, 15, 8, 22, 6, 31, 12, 31, 16, 10, 2, 24, 3, 25, 26, 17]"
   ]
  },
  {
   "cell_type": "code",
   "execution_count": null,
   "id": "aa53d7a1",
   "metadata": {},
   "outputs": [],
   "source": []
  }
 ],
 "metadata": {
  "kernelspec": {
   "display_name": "Python 3 (ipykernel)",
   "language": "python",
   "name": "python3"
  },
  "language_info": {
   "codemirror_mode": {
    "name": "ipython",
    "version": 3
   },
   "file_extension": ".py",
   "mimetype": "text/x-python",
   "name": "python",
   "nbconvert_exporter": "python",
   "pygments_lexer": "ipython3",
   "version": "3.10.4"
  }
 },
 "nbformat": 4,
 "nbformat_minor": 5
}
