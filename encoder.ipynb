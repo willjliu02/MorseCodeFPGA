{
 "cells": [
  {
   "cell_type": "code",
   "execution_count": 99,
   "metadata": {},
   "outputs": [],
   "source": [
    "# ------------------------------------------------------\n",
    "# Encoder\n",
    "# ------------------------------------------------------\n",
    "\n",
    "from pynq.lib import AxiGPIO\n",
    "from pynq import Overlay\n",
    "from time import sleep\n",
    "axi_gpio_design = Overlay(\"axi_gpio.bit\")\n",
    "\n",
    "MORSE_CODE_DICT = {'A': '.-', 'B': '-...', 'C': '-.-.', 'D': '-..', 'E': '.', 'F': '..-.', 'G': '--.', 'H': '....',\n",
    "                       'I': '..', 'J': '.---', 'K': '-.-', 'L': '.-..', 'M': '--', 'N': '-.', 'O': '---', 'P': '.--.',\n",
    "                       'Q': '--.-', 'R': '.-.', 'S': '...', 'T': '-', 'U': '..-', 'V': '...-', 'W': '.--', 'X': '-..-',\n",
    "                       'Y': '-.--', 'Z': '--..', '1': '.----', '2': '..---', '3': '...--', '4': '....-', '5': '.....',\n",
    "                       '6': '-....', '7': '--...', '8': '---..', '9': '----.', '0': '-----', ' ': '/'}\n",
    "\n",
    "'''\n",
    "Encodes the text from the txt file into bits\n",
    "\n",
    "Params:\n",
    "- text: read from the txt file\n",
    "'''\n",
    "def encode_text(text):\n",
    "    encoded_bits = \"\"\n",
    "    for char in text.upper():  \n",
    "        if char != ' ':\n",
    "            encoded_bits += encode_char(char)  \n",
    "            encoded_bits += encode_letter_separator()\n",
    "            encoded_bits += \" \"\n",
    "        else:\n",
    "            encoded_bits += encode_word_separator()\n",
    "            encoded_bits += \" \"\n",
    "    return encoded_bits\n",
    "\n",
    "'''\n",
    "Encodes each individual char into its binary counterpart\n",
    "\n",
    "Params:\n",
    "- char: invidual char from the txt file\n",
    "'''\n",
    "def encode_char(char):\n",
    "    encoded_bits = \"\"\n",
    "    morse_code = MORSE_CODE_DICT[char]\n",
    "    \n",
    "    for i, symbol in enumerate(morse_code):\n",
    "        encoded_bits += encode_symbol(symbol)\n",
    "        \n",
    "        \n",
    "        if i < len(morse_code) - 1:\n",
    "            encoded_bits += encode_symbol_separator()\n",
    "    \n",
    "    return encoded_bits\n",
    "    \n",
    "'''\n",
    "Based on the beat map we created, separators are created\n",
    "'''\n",
    "def encode_symbol(symbol):\n",
    "    return \"1\" * (3 if symbol == '-' else 1)\n",
    "\n",
    "def encode_symbol_separator():\n",
    "    return \"0\"  \n",
    "\n",
    "def encode_word_separator():\n",
    "    return \"0\" * 7  \n",
    "\n",
    "def encode_letter_separator():\n",
    "    return \"0\" * 3\n",
    "'''\n",
    "Writes the bits to file after they are encoded \n",
    "'''\n",
    "def write_bits_to_file(encoded_text, filename):\n",
    "    with open(filename, 'w') as f:\n",
    "        f.write(encoded_text)"
   ]
  },
  {
   "cell_type": "code",
   "execution_count": 100,
   "metadata": {},
   "outputs": [
    {
     "name": "stdout",
     "output_type": "stream",
     "text": [
      "Enter input file name: test\n",
      "1010101000 1000 101110101000 101110101000 11101110111000 0000000 1110111000 1110101110111000 0000000 11101000 10111000 1110111000 1000 0000000 101000 10101000 0000000 101110111000 101000 101110101000 101110101000 \n"
     ]
    }
   ],
   "source": [
    "input_file = input(\"Enter input file name: \")\n",
    "input_file+= \".txt\"\n",
    "input_file = input_file\n",
    "output_file = 'output.txt'\n",
    "with open(input_file, 'r') as f:\n",
    "    text = f.read()\n",
    "encoded_text = encode_text(text)\n",
    "print(encoded_text)\n",
    "write_bits_to_file(encoded_text, output_file)\n"
   ]
  },
  {
   "cell_type": "code",
   "execution_count": null,
   "metadata": {},
   "outputs": [],
   "source": [
    "led_instance = axi_gpio_design.ip_dict['leds']\n",
    "led = AxiGPIO(led_instance).channel1\n"
   ]
  },
  {
   "cell_type": "code",
   "execution_count": 105,
   "metadata": {},
   "outputs": [
    {
     "name": "stdout",
     "output_type": "stream",
     "text": [
      "1\n",
      "0\n",
      "1\n",
      "0\n",
      "1\n",
      "0\n",
      "1\n",
      "0\n",
      "0\n",
      "0\n",
      " \n",
      "1\n",
      "0\n",
      "0\n",
      "0\n",
      " \n",
      "1\n",
      "0\n",
      "1\n",
      "1\n",
      "1\n",
      "0\n",
      "1\n",
      "0\n",
      "1\n",
      "0\n",
      "0\n",
      "0\n",
      " \n",
      "1\n",
      "0\n",
      "1\n"
     ]
    },
    {
     "ename": "KeyboardInterrupt",
     "evalue": "",
     "output_type": "error",
     "traceback": [
      "\u001b[0;31m---------------------------------------------------------------------------\u001b[0m",
      "\u001b[0;31mKeyboardInterrupt\u001b[0m                         Traceback (most recent call last)",
      "Input \u001b[0;32mIn [105]\u001b[0m, in \u001b[0;36m<cell line: 1>\u001b[0;34m()\u001b[0m\n\u001b[1;32m      3\u001b[0m \u001b[38;5;28;01mif\u001b[39;00m (encoded_text[i] \u001b[38;5;241m==\u001b[39m \u001b[38;5;124m\"\u001b[39m\u001b[38;5;124m1\u001b[39m\u001b[38;5;124m\"\u001b[39m \u001b[38;5;129;01mand\u001b[39;00m encoded_text[i\u001b[38;5;241m+\u001b[39m\u001b[38;5;241m1\u001b[39m] \u001b[38;5;241m==\u001b[39m \u001b[38;5;124m\"\u001b[39m\u001b[38;5;124m1\u001b[39m\u001b[38;5;124m\"\u001b[39m \u001b[38;5;129;01mand\u001b[39;00m encoded_text[i\u001b[38;5;241m+\u001b[39m\u001b[38;5;241m2\u001b[39m] \u001b[38;5;241m==\u001b[39m \u001b[38;5;124m\"\u001b[39m\u001b[38;5;124m1\u001b[39m\u001b[38;5;124m\"\u001b[39m):\n\u001b[1;32m      4\u001b[0m     led[\u001b[38;5;241m0\u001b[39m:\u001b[38;5;241m4\u001b[39m]\u001b[38;5;241m.\u001b[39mwrite(\u001b[38;5;241m0xf\u001b[39m) \u001b[38;5;66;03m# Set all LEDs to ON\u001b[39;00m\n\u001b[0;32m----> 5\u001b[0m     \u001b[43msleep\u001b[49m\u001b[43m(\u001b[49m\u001b[38;5;241;43m3\u001b[39;49m\u001b[43m)\u001b[49m\n\u001b[1;32m      6\u001b[0m \u001b[38;5;28;01mif\u001b[39;00m (encoded_text[i] \u001b[38;5;241m==\u001b[39m \u001b[38;5;124m\"\u001b[39m\u001b[38;5;124m1\u001b[39m\u001b[38;5;124m\"\u001b[39m \u001b[38;5;129;01mand\u001b[39;00m encoded_text[i\u001b[38;5;241m+\u001b[39m\u001b[38;5;241m1\u001b[39m] \u001b[38;5;241m!=\u001b[39m \u001b[38;5;124m\"\u001b[39m\u001b[38;5;124m1\u001b[39m\u001b[38;5;124m\"\u001b[39m):\n\u001b[1;32m      7\u001b[0m     led[\u001b[38;5;241m0\u001b[39m:\u001b[38;5;241m4\u001b[39m]\u001b[38;5;241m.\u001b[39mwrite(\u001b[38;5;241m0xf\u001b[39m) \u001b[38;5;66;03m# Set all LEDs to ON\u001b[39;00m\n",
      "\u001b[0;31mKeyboardInterrupt\u001b[0m: "
     ]
    }
   ],
   "source": [
    " for i in range(len(encoded_text)):\n",
    "    print(encoded_text[i])\n",
    "    if (encoded_text[i] == \"1\" and encoded_text[i+1] == \"1\" and encoded_text[i+2] == \"1\"):\n",
    "        led[0:4].write(0xf) # Set all LEDs to ON\n",
    "        sleep(3)\n",
    "    if (encoded_text[i] == \"1\" and encoded_text[i+1] != \"1\"):\n",
    "        led[0:4].write(0xf) # Set all LEDs to ON\n",
    "        sleep(1)\n",
    "    if (encoded_text[i]==\"0\"):\n",
    "        led[0:4].write(0x0) # Set all LEDs to OFF\n",
    "        sleep(1)"
   ]
  },
  {
   "cell_type": "code",
   "execution_count": 91,
   "metadata": {},
   "outputs": [],
   "source": [
    "led[0:4].off()"
   ]
  },
  {
   "cell_type": "code",
   "execution_count": null,
   "metadata": {},
   "outputs": [],
   "source": []
  }
 ],
 "metadata": {
  "kernelspec": {
   "display_name": "Python 3 (ipykernel)",
   "language": "python",
   "name": "python3"
  },
  "language_info": {
   "codemirror_mode": {
    "name": "ipython",
    "version": 3
   },
   "file_extension": ".py",
   "mimetype": "text/x-python",
   "name": "python",
   "nbconvert_exporter": "python",
   "pygments_lexer": "ipython3",
   "version": "3.10.4"
  }
 },
 "nbformat": 4,
 "nbformat_minor": 2
}
