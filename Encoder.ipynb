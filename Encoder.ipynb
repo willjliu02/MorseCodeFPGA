{
 "cells": [
  {
   "cell_type": "code",
   "execution_count": 19,
   "metadata": {},
   "outputs": [],
   "source": [
    "MORSE_CODE_DICT = {'A': '.-', 'B': '-...', 'C': '-.-.', 'D': '-..', 'E': '.', 'F': '..-.', 'G': '--.', 'H': '....',\n",
    "                       'I': '..', 'J': '.---', 'K': '-.-', 'L': '.-..', 'M': '--', 'N': '-.', 'O': '---', 'P': '.--.',\n",
    "                       'Q': '--.-', 'R': '.-.', 'S': '...', 'T': '-', 'U': '..-', 'V': '...-', 'W': '.--', 'X': '-..-',\n",
    "                       'Y': '-.--', 'Z': '--..', '1': '.----', '2': '..---', '3': '...--', '4': '....-', '5': '.....',\n",
    "                       '6': '-....', '7': '--...', '8': '---..', '9': '----.', '0': '-----', ' ': '/'}\n",
    "\n",
    "def encode_text(text):\n",
    "    encoded_bits = \"\"\n",
    "    for char in text.upper():  \n",
    "        if char != ' ':\n",
    "            encoded_bits += encode_char(char)  \n",
    "            encoded_bits += encode_letter_separator()\n",
    "        else:\n",
    "            encoded_bits += encode_word_separator()\n",
    "            encoded_bits += \" \"\n",
    "    return encoded_bits\n",
    "\n",
    "\n",
    "def encode_char(char):\n",
    "    encoded_bits = \"\"\n",
    "    for symbol in MORSE_CODE_DICT[char]:\n",
    "        encoded_bits += (encode_symbol(symbol))\n",
    "        encoded_bits += (encode_symbol_separator())\n",
    "    \n",
    "        \n",
    "    return encoded_bits\n",
    "\n",
    "def encode_symbol(symbol):\n",
    "    return \"1\" * (3 if symbol == '-' else 1)  \n",
    "\n",
    "def encode_symbol_separator():\n",
    "    return \"0\" * 1  \n",
    "\n",
    "def encode_word_separator():\n",
    "    return \"0\" * 7  \n",
    "\n",
    "def encode_letter_separator():\n",
    "    return \"0\" * 3\n",
    "\n",
    "def write_bits_to_file(encoded_text, filename):\n",
    "    with open(filename, 'w') as f:\n",
    "        f.write(encoded_text)\n",
    "\n",
    "\n"
   ]
  },
  {
   "cell_type": "code",
   "execution_count": 20,
   "metadata": {},
   "outputs": [
    {
     "name": "stdout",
     "output_type": "stream",
     "text": [
      "101110000111010101000011101011101000011101010000100001010111010000111011101000010101010000101000010111011101110000111010111000010111010100001110111000011101000011101110111000010111011101000011101110101110000101110100001110000101011100001010101110000101110111000011101011101110000111010101110000111011101010000\n"
     ]
    }
   ],
   "source": [
    "\n",
    "input_file = 'input.txt'\n",
    "output_file = 'output.txt'\n",
    "with open(input_file, 'r') as f:\n",
    "    text = f.read()\n",
    "encoded_text = encode_text(text)\n",
    "print(encoded_text)\n",
    "#write_bits_to_file(\"\".join(encoded_text), output_file)\n",
    "#print(f\"Morse code encoded and written to {output_file}\")"
   ]
  }
 ],
 "metadata": {
  "kernelspec": {
   "display_name": "Python 3",
   "language": "python",
   "name": "python3"
  },
  "language_info": {
   "codemirror_mode": {
    "name": "ipython",
    "version": 3
   },
   "file_extension": ".py",
   "mimetype": "text/x-python",
   "name": "python",
   "nbconvert_exporter": "python",
   "pygments_lexer": "ipython3",
   "version": "3.10.5"
  }
 },
 "nbformat": 4,
 "nbformat_minor": 2
}
