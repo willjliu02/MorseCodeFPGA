{
 "cells": [
  {
   "cell_type": "code",
   "execution_count": 10,
   "metadata": {},
   "outputs": [],
   "source": [
    "MORSE_CODE_DICT = {'A': '.-', 'B': '-...', 'C': '-.-.', 'D': '-..', 'E': '.', 'F': '..-.', 'G': '--.', 'H': '....',\n",
    "                       'I': '..', 'J': '.---', 'K': '-.-', 'L': '.-..', 'M': '--', 'N': '-.', 'O': '---', 'P': '.--.',\n",
    "                       'Q': '--.-', 'R': '.-.', 'S': '...', 'T': '-', 'U': '..-', 'V': '...-', 'W': '.--', 'X': '-..-',\n",
    "                       'Y': '-.--', 'Z': '--..', '1': '.----', '2': '..---', '3': '...--', '4': '....-', '5': '.....',\n",
    "                       '6': '-....', '7': '--...', '8': '---..', '9': '----.', '0': '-----', ' ': '/'}\n",
    "\n",
    "def encode_text(text, out = None):\n",
    "    encoded_bits = \"\"\n",
    "    for char in text.upper():  \n",
    "        if char != ' ':\n",
    "            encoded_bits += encode_char(char)  \n",
    "            encoded_bits += encode_letter_separator()\n",
    "            encoded_bits += \" \"\n",
    "        else:\n",
    "            encoded_bits += encode_word_separator()\n",
    "            encoded_bits += \" \"\n",
    "    return encoded_bits\n",
    "\n",
    "\n",
    "def encode_char(char):\n",
    "    encoded_bits = \"\"\n",
    "    morse_code = MORSE_CODE_DICT[char]\n",
    "    \n",
    "    for i, symbol in enumerate(morse_code):\n",
    "        encoded_bits += encode_symbol(symbol)\n",
    "        \n",
    "        # Check if it's the last symbol to avoid adding a separator\n",
    "        if i < len(morse_code) - 1:\n",
    "            encoded_bits += encode_symbol_separator()\n",
    "    \n",
    "    return encoded_bits\n",
    "    \n",
    "\n",
    "def encode_symbol(symbol):\n",
    "    return \"1\" * (3 if symbol == '-' else 1)\n",
    "\n",
    "def encode_symbol_separator():\n",
    "    return \"0\"  \n",
    "\n",
    "def encode_word_separator():\n",
    "    return \"0\" * 7  \n",
    "\n",
    "def encode_letter_separator():\n",
    "    return \"0\" * 3\n",
    "\n",
    "def write_bits_to_file(encoded_text, filename):\n",
    "    with open(filename, 'w') as f:\n",
    "        f.write(encoded_text)\n",
    "\n",
    "\n"
   ]
  },
  {
   "cell_type": "code",
   "execution_count": 11,
   "metadata": {},
   "outputs": [],
   "source": [
    "from pathlib import Path\n",
    "import time"
   ]
  },
  {
   "cell_type": "code",
   "execution_count": 13,
   "metadata": {},
   "outputs": [],
   "source": [
    "'''\n",
    "Basic Test Template to make other tests out of\n",
    "'''\n",
    "def encoder_test(in_file, golden_file, result_file = None, time_it = False):\n",
    "    if result_file is None:\n",
    "        dot_split = in_file.split(\".\")\n",
    "        result_file = \"{}_out.{}\".format(\"\".join(dot_split[:-1]), dot_split[-1])\n",
    "    \n",
    "    timing = time.time()\n",
    "\n",
    "    encode_text(in_file, out=result_file)\n",
    "\n",
    "    if time_it:\n",
    "        timing = time.time() - timing\n",
    "    else:\n",
    "        timing = 0\n",
    "\n",
    "    correct_output = True\n",
    "\n",
    "    with open(result_file, \"r\") as results:\n",
    "        with open(golden_file, \"r\") as golden:\n",
    "            next_result = results.readline().strip().lower()\n",
    "            next_golden = golden.readline().strip().lower()\n",
    "\n",
    "            while next_result != \"\" and next_golden != \"\":\n",
    "                if next_result != next_golden:\n",
    "                    print(f\"'{next_result}' does not match '{next_golden}'\")\n",
    "                    correct_output = False\n",
    "                    break\n",
    "                next_result = results.readline()\n",
    "                next_golden = golden.readline()\n",
    "\n",
    "            if next_result != next_golden:\n",
    "                print(f\"One was empty:\\n'{next_result}' does not match '{next_golden}'\")\n",
    "                correct_output = False\n",
    "            \n",
    "    Path(result_file).unlink()\n",
    "\n",
    "    if correct_output:\n",
    "        timing_statement = \"\" if not time_it else f\" in {timing:4.2} seconds\"\n",
    "        print(f\"Successfully encoded {in_file}{timing_statement}\")\n",
    "\n",
    "    return correct_output\n",
    "                 \n"
   ]
  },
  {
   "cell_type": "code",
   "execution_count": 15,
   "metadata": {},
   "outputs": [
    {
     "ename": "KeyError",
     "evalue": "'_'",
     "output_type": "error",
     "traceback": [
      "\u001b[1;31m---------------------------------------------------------------------------\u001b[0m",
      "\u001b[1;31mKeyError\u001b[0m                                  Traceback (most recent call last)",
      "Cell \u001b[1;32mIn[15], line 7\u001b[0m\n\u001b[0;32m      4\u001b[0m \u001b[38;5;28;01mdef\u001b[39;00m \u001b[38;5;21mtest1\u001b[39m():\n\u001b[0;32m      5\u001b[0m     encoder_test(\u001b[38;5;124m\"\u001b[39m\u001b[38;5;124mencoder_tests/test1.txt\u001b[39m\u001b[38;5;124m\"\u001b[39m, \u001b[38;5;124m\"\u001b[39m\u001b[38;5;124mencoder_tests/golden_out1.txt\u001b[39m\u001b[38;5;124m\"\u001b[39m, time_it \u001b[38;5;241m=\u001b[39m \u001b[38;5;28;01mTrue\u001b[39;00m)\n\u001b[1;32m----> 7\u001b[0m \u001b[43mtest1\u001b[49m\u001b[43m(\u001b[49m\u001b[43m)\u001b[49m\n",
      "Cell \u001b[1;32mIn[15], line 5\u001b[0m, in \u001b[0;36mtest1\u001b[1;34m()\u001b[0m\n\u001b[0;32m      4\u001b[0m \u001b[38;5;28;01mdef\u001b[39;00m \u001b[38;5;21mtest1\u001b[39m():\n\u001b[1;32m----> 5\u001b[0m     \u001b[43mencoder_test\u001b[49m\u001b[43m(\u001b[49m\u001b[38;5;124;43m\"\u001b[39;49m\u001b[38;5;124;43mencoder_tests/test1.txt\u001b[39;49m\u001b[38;5;124;43m\"\u001b[39;49m\u001b[43m,\u001b[49m\u001b[43m \u001b[49m\u001b[38;5;124;43m\"\u001b[39;49m\u001b[38;5;124;43mencoder_tests/golden_out1.txt\u001b[39;49m\u001b[38;5;124;43m\"\u001b[39;49m\u001b[43m,\u001b[49m\u001b[43m \u001b[49m\u001b[43mtime_it\u001b[49m\u001b[43m \u001b[49m\u001b[38;5;241;43m=\u001b[39;49m\u001b[43m \u001b[49m\u001b[38;5;28;43;01mTrue\u001b[39;49;00m\u001b[43m)\u001b[49m\n",
      "Cell \u001b[1;32mIn[13], line 11\u001b[0m, in \u001b[0;36mencoder_test\u001b[1;34m(in_file, golden_file, result_file, time_it)\u001b[0m\n\u001b[0;32m      7\u001b[0m     result_file \u001b[38;5;241m=\u001b[39m \u001b[38;5;124m\"\u001b[39m\u001b[38;5;132;01m{}\u001b[39;00m\u001b[38;5;124m_out.\u001b[39m\u001b[38;5;132;01m{}\u001b[39;00m\u001b[38;5;124m\"\u001b[39m\u001b[38;5;241m.\u001b[39mformat(\u001b[38;5;124m\"\u001b[39m\u001b[38;5;124m\"\u001b[39m\u001b[38;5;241m.\u001b[39mjoin(dot_split[:\u001b[38;5;241m-\u001b[39m\u001b[38;5;241m1\u001b[39m]), dot_split[\u001b[38;5;241m-\u001b[39m\u001b[38;5;241m1\u001b[39m])\n\u001b[0;32m      9\u001b[0m timing \u001b[38;5;241m=\u001b[39m time\u001b[38;5;241m.\u001b[39mtime()\n\u001b[1;32m---> 11\u001b[0m \u001b[43mencode_text\u001b[49m\u001b[43m(\u001b[49m\u001b[43min_file\u001b[49m\u001b[43m,\u001b[49m\u001b[43m \u001b[49m\u001b[43mout\u001b[49m\u001b[38;5;241;43m=\u001b[39;49m\u001b[43mresult_file\u001b[49m\u001b[43m)\u001b[49m\n\u001b[0;32m     13\u001b[0m \u001b[38;5;28;01mif\u001b[39;00m time_it:\n\u001b[0;32m     14\u001b[0m     timing \u001b[38;5;241m=\u001b[39m time\u001b[38;5;241m.\u001b[39mtime() \u001b[38;5;241m-\u001b[39m timing\n",
      "Cell \u001b[1;32mIn[10], line 11\u001b[0m, in \u001b[0;36mencode_text\u001b[1;34m(text, out)\u001b[0m\n\u001b[0;32m      9\u001b[0m \u001b[38;5;28;01mfor\u001b[39;00m char \u001b[38;5;129;01min\u001b[39;00m text\u001b[38;5;241m.\u001b[39mupper():  \n\u001b[0;32m     10\u001b[0m     \u001b[38;5;28;01mif\u001b[39;00m char \u001b[38;5;241m!=\u001b[39m \u001b[38;5;124m'\u001b[39m\u001b[38;5;124m \u001b[39m\u001b[38;5;124m'\u001b[39m:\n\u001b[1;32m---> 11\u001b[0m         encoded_bits \u001b[38;5;241m+\u001b[39m\u001b[38;5;241m=\u001b[39m \u001b[43mencode_char\u001b[49m\u001b[43m(\u001b[49m\u001b[43mchar\u001b[49m\u001b[43m)\u001b[49m  \n\u001b[0;32m     12\u001b[0m         encoded_bits \u001b[38;5;241m+\u001b[39m\u001b[38;5;241m=\u001b[39m encode_letter_separator()\n\u001b[0;32m     13\u001b[0m         encoded_bits \u001b[38;5;241m+\u001b[39m\u001b[38;5;241m=\u001b[39m \u001b[38;5;124m\"\u001b[39m\u001b[38;5;124m \u001b[39m\u001b[38;5;124m\"\u001b[39m\n",
      "Cell \u001b[1;32mIn[10], line 22\u001b[0m, in \u001b[0;36mencode_char\u001b[1;34m(char)\u001b[0m\n\u001b[0;32m     20\u001b[0m \u001b[38;5;28;01mdef\u001b[39;00m \u001b[38;5;21mencode_char\u001b[39m(char):\n\u001b[0;32m     21\u001b[0m     encoded_bits \u001b[38;5;241m=\u001b[39m \u001b[38;5;124m\"\u001b[39m\u001b[38;5;124m\"\u001b[39m\n\u001b[1;32m---> 22\u001b[0m     morse_code \u001b[38;5;241m=\u001b[39m \u001b[43mMORSE_CODE_DICT\u001b[49m\u001b[43m[\u001b[49m\u001b[43mchar\u001b[49m\u001b[43m]\u001b[49m\n\u001b[0;32m     24\u001b[0m     \u001b[38;5;28;01mfor\u001b[39;00m i, symbol \u001b[38;5;129;01min\u001b[39;00m \u001b[38;5;28menumerate\u001b[39m(morse_code):\n\u001b[0;32m     25\u001b[0m         encoded_bits \u001b[38;5;241m+\u001b[39m\u001b[38;5;241m=\u001b[39m encode_symbol(symbol)\n",
      "\u001b[1;31mKeyError\u001b[0m: '_'"
     ]
    }
   ],
   "source": [
    "'''\n",
    "Tests if the alphabet with no spaces is accurate\n",
    "'''\n",
    "def test1():\n",
    "    encoder_test(\"encoder_tests/test1.txt\", \"encoder_tests/golden_out1.txt\", time_it = True)\n",
    "    \n",
    "test1()"
   ]
  },
  {
   "cell_type": "code",
   "execution_count": 16,
   "metadata": {},
   "outputs": [
    {
     "ename": "FileNotFoundError",
     "evalue": "[Errno 2] No such file or directory: 'input.txt'",
     "output_type": "error",
     "traceback": [
      "\u001b[1;31m---------------------------------------------------------------------------\u001b[0m",
      "\u001b[1;31mFileNotFoundError\u001b[0m                         Traceback (most recent call last)",
      "Cell \u001b[1;32mIn[16], line 3\u001b[0m\n\u001b[0;32m      1\u001b[0m input_file \u001b[38;5;241m=\u001b[39m \u001b[38;5;124m'\u001b[39m\u001b[38;5;124minput.txt\u001b[39m\u001b[38;5;124m'\u001b[39m\n\u001b[0;32m      2\u001b[0m output_file \u001b[38;5;241m=\u001b[39m \u001b[38;5;124m'\u001b[39m\u001b[38;5;124moutput.txt\u001b[39m\u001b[38;5;124m'\u001b[39m\n\u001b[1;32m----> 3\u001b[0m \u001b[38;5;28;01mwith\u001b[39;00m \u001b[38;5;28;43mopen\u001b[39;49m\u001b[43m(\u001b[49m\u001b[43minput_file\u001b[49m\u001b[43m,\u001b[49m\u001b[43m \u001b[49m\u001b[38;5;124;43m'\u001b[39;49m\u001b[38;5;124;43mr\u001b[39;49m\u001b[38;5;124;43m'\u001b[39;49m\u001b[43m)\u001b[49m \u001b[38;5;28;01mas\u001b[39;00m f:\n\u001b[0;32m      4\u001b[0m     text \u001b[38;5;241m=\u001b[39m f\u001b[38;5;241m.\u001b[39mread()\n\u001b[0;32m      5\u001b[0m encoded_text \u001b[38;5;241m=\u001b[39m encode_text(text)\n",
      "File \u001b[1;32m~\\AppData\\Roaming\\Python\\Python310\\site-packages\\IPython\\core\\interactiveshell.py:324\u001b[0m, in \u001b[0;36m_modified_open\u001b[1;34m(file, *args, **kwargs)\u001b[0m\n\u001b[0;32m    317\u001b[0m \u001b[38;5;28;01mif\u001b[39;00m file \u001b[38;5;129;01min\u001b[39;00m {\u001b[38;5;241m0\u001b[39m, \u001b[38;5;241m1\u001b[39m, \u001b[38;5;241m2\u001b[39m}:\n\u001b[0;32m    318\u001b[0m     \u001b[38;5;28;01mraise\u001b[39;00m \u001b[38;5;167;01mValueError\u001b[39;00m(\n\u001b[0;32m    319\u001b[0m         \u001b[38;5;124mf\u001b[39m\u001b[38;5;124m\"\u001b[39m\u001b[38;5;124mIPython won\u001b[39m\u001b[38;5;124m'\u001b[39m\u001b[38;5;124mt let you open fd=\u001b[39m\u001b[38;5;132;01m{\u001b[39;00mfile\u001b[38;5;132;01m}\u001b[39;00m\u001b[38;5;124m by default \u001b[39m\u001b[38;5;124m\"\u001b[39m\n\u001b[0;32m    320\u001b[0m         \u001b[38;5;124m\"\u001b[39m\u001b[38;5;124mas it is likely to crash IPython. If you know what you are doing, \u001b[39m\u001b[38;5;124m\"\u001b[39m\n\u001b[0;32m    321\u001b[0m         \u001b[38;5;124m\"\u001b[39m\u001b[38;5;124myou can use builtins\u001b[39m\u001b[38;5;124m'\u001b[39m\u001b[38;5;124m open.\u001b[39m\u001b[38;5;124m\"\u001b[39m\n\u001b[0;32m    322\u001b[0m     )\n\u001b[1;32m--> 324\u001b[0m \u001b[38;5;28;01mreturn\u001b[39;00m io_open(file, \u001b[38;5;241m*\u001b[39margs, \u001b[38;5;241m*\u001b[39m\u001b[38;5;241m*\u001b[39mkwargs)\n",
      "\u001b[1;31mFileNotFoundError\u001b[0m: [Errno 2] No such file or directory: 'input.txt'"
     ]
    }
   ],
   "source": [
    "\n",
    "input_file = 'input.txt'\n",
    "output_file = 'output.txt'\n",
    "with open(input_file, 'r') as f:\n",
    "    text = f.read()\n",
    "encoded_text = encode_text(text)\n",
    "print(encoded_text)\n",
    "write_bits_to_file(encoded_text, output_file)\n",
    "print(f\"Morse code encoded and written to {output_file}\")"
   ]
  }
 ],
 "metadata": {
  "kernelspec": {
   "display_name": "Python 3",
   "language": "python",
   "name": "python3"
  },
  "language_info": {
   "codemirror_mode": {
    "name": "ipython",
    "version": 3
   },
   "file_extension": ".py",
   "mimetype": "text/x-python",
   "name": "python",
   "nbconvert_exporter": "python",
   "pygments_lexer": "ipython3",
   "version": "3.10.5"
  }
 },
 "nbformat": 4,
 "nbformat_minor": 2
}
