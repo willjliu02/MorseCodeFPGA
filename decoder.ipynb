{
 "cells": [
  {
   "cell_type": "code",
   "execution_count": 1,
   "metadata": {},
   "outputs": [],
   "source": [
    "class Decoder:\n",
    "    '''\n",
    "    Processes the next bit\n",
    "    '''\n",
    "    def process_next_bit(self, bit):\n",
    "        pass\n",
    "\n",
    "    '''\n",
    "    Outputs the final data as a string\n",
    "    '''\n",
    "    def finalize(self) -> str:\n",
    "        pass"
   ]
  },
  {
   "cell_type": "code",
   "execution_count": 2,
   "metadata": {},
   "outputs": [],
   "source": [
    "from enum import IntEnum"
   ]
  },
  {
   "cell_type": "code",
   "execution_count": 3,
   "metadata": {},
   "outputs": [],
   "source": [
    "class SWDecoder(Decoder):\n",
    "    # ------------------------------------------------------\n",
    "    # Letter State Machine\n",
    "    # ------------------------------------------------------\n",
    "    def __init__(self, letters = \"ETIANMSURWDKGOHVF L PJBXCYZQ\"):\n",
    "        self.letters = letters\n",
    "        self.current_letter = 0\n",
    "        self.beat_error_range = 0.15\n",
    "\n",
    "        self.beat_duration = 1 # How many bits is a beat?\n",
    "        self.prev_bit = 0 # The value of the previous bit\n",
    "        self.num_of_bit = 0 # The number of occurrences of \"prev bit\"\n",
    "\n",
    "    '''\n",
    "    Initializes the machine\n",
    "    '''\n",
    "    def init_letters(self):\n",
    "        self.current_letter = 0\n",
    "\n",
    "    '''\n",
    "    Shifts the state machine to the next letter\n",
    "\n",
    "    Params:\n",
    "    - is_dash(bool): is really some bit indiciating if the incoming symbol is a dot or dash\n",
    "    '''\n",
    "    def shift_letter(self, is_dash: bool) -> None:\n",
    "        self.current_letter = self.current_letter * 2 + is_dash + 1\n",
    "\n",
    "    '''\n",
    "    Gets the letter that the current state machine is on\n",
    "\n",
    "    Returns:\n",
    "    The length 1 string that has the character\n",
    "    None, if CURRENT_LETTER is not in the range of the list of letters\n",
    "    '''\n",
    "    def get_letter(self) -> str: \n",
    "        ret_letter = \"\"\n",
    "\n",
    "        if self.current_letter > 0 and self.current_letter <= len(self.letters):\n",
    "            ret_letter = self.letters[self.current_letter - 1]\n",
    "\n",
    "        self.current_letter = 0\n",
    "\n",
    "        return ret_letter\n",
    "\n",
    "    '''\n",
    "    Finishes the machine and grabs the last letter\n",
    "    '''\n",
    "    def finalize(self) -> str:\n",
    "        return self.get_letter()\n",
    "    \n",
    "\n",
    "    '''\n",
    "    A list of the possible parsings from the morse code\n",
    "    '''\n",
    "    class MEANING(IntEnum):\n",
    "        # Symbol\n",
    "        DOT = 0\n",
    "        DASH = 1\n",
    "\n",
    "        # Pauses\n",
    "        NEXT_SYMBOL = 2\n",
    "        NEXT_LETTER = 3\n",
    "        NEXT_WORD = 4\n",
    "\n",
    "        # Unknown\n",
    "        UNKNOWN = -1\n",
    "\n",
    "    '''\n",
    "    Removes noise from the beat_duration\n",
    "\n",
    "    Params:\n",
    "    - beat_nums(float): the rough number of beats\n",
    "    '''\n",
    "    def remove_noise(self, beat_nums: float):\n",
    "        error_ranges = [(dur, dur * (1 - self.beat_error_range), dur * (1 + (self.beat_error_range if dur != 7 else 1))) for dur in (1,3,7)]\n",
    "\n",
    "        for (duration, duration_min, duration_max) in error_ranges:\n",
    "            if beat_nums >= duration_min and beat_nums <= duration_max:\n",
    "                return duration\n",
    "\n",
    "        return -1\n",
    "    \n",
    "    '''\n",
    "    Processes some parsed information and interacts with the \"letter\" state machine\n",
    "\n",
    "    Params:\n",
    "    - meaning (MEANING): some parsed info from the bitstream input\n",
    "\n",
    "    Returns:\n",
    "    Either a letter, a letter + a space, or None\n",
    "    '''\n",
    "    def process(self, meaning: MEANING) -> str | None:\n",
    "        ret_proc = None\n",
    "        match meaning:\n",
    "            case SWDecoder.MEANING.DOT:\n",
    "                self.shift_letter(SWDecoder.MEANING.DOT)\n",
    "            case SWDecoder.MEANING.DASH:\n",
    "                self.shift_letter(SWDecoder.MEANING.DASH)\n",
    "            case SWDecoder.MEANING.NEXT_LETTER:\n",
    "                ret_proc = self.get_letter()\n",
    "            case SWDecoder.MEANING.NEXT_WORD:\n",
    "                ret_proc = self.get_letter() + \" \"\n",
    "\n",
    "        return ret_proc\n",
    "    \n",
    "    # ------------------------------------------------------\n",
    "    # Beat Decoder\n",
    "    # ------------------------------------------------------\n",
    "    '''\n",
    "    Determines what the last string of bit B means\n",
    "\n",
    "    Returns:\n",
    "    The information as one of the discrete meanings above.\n",
    "    '''\n",
    "    def parse_prev_inputs(self):\n",
    "        beats = self.remove_noise(self.num_of_bit / self.beat_duration)\n",
    "\n",
    "        meaning = None\n",
    "        match (self.prev_bit, beats):\n",
    "            case (1, 1):\n",
    "                meaning = SWDecoder.MEANING.DOT\n",
    "            case (1, 3):\n",
    "                meaning = SWDecoder.MEANING.DASH\n",
    "            case (0, 1):\n",
    "                meaning = SWDecoder.MEANING.NEXT_SYMBOL\n",
    "            case (0, 3):\n",
    "                meaning = SWDecoder.MEANING.NEXT_LETTER\n",
    "            case (0, 7):\n",
    "                meaning = SWDecoder.MEANING.NEXT_WORD\n",
    "            case _:\n",
    "                meaning = SWDecoder.MEANING.UNKNOWN\n",
    "        return meaning\n",
    "\n",
    "    '''\n",
    "    Processes the next bit\n",
    "\n",
    "    Params:\n",
    "    - bit(int): either a 0 or 1 that is either an \"on\" or \"off\" signal from the sender\n",
    "\n",
    "    Returns:\n",
    "    A letter if we have reached the end of a letter/word, else None\n",
    "    '''\n",
    "    def process_next_bit(self, bit: int) -> str | None:\n",
    "        if bit == self.prev_bit:\n",
    "            self.num_of_bit += 1\n",
    "        else:\n",
    "            meaning = self.parse_prev_inputs()\n",
    "            maybe_output = self.process(meaning)\n",
    "\n",
    "            self.prev_bit = bit\n",
    "            self.num_of_bit = 1\n",
    "\n",
    "            return maybe_output"
   ]
  },
  {
   "cell_type": "code",
   "execution_count": 4,
   "metadata": {},
   "outputs": [],
   "source": [
    "import sys"
   ]
  },
  {
   "cell_type": "code",
   "execution_count": 6,
   "metadata": {},
   "outputs": [],
   "source": [
    "from pynq import Overlay, DefaultIP, allocate\n",
    "import numpy as np"
   ]
  },
  {
   "cell_type": "code",
   "execution_count": 7,
   "metadata": {},
   "outputs": [],
   "source": [
    "# class Decoder(DefaultIP):\n",
    "#     CONTROL_REGISTER = 0x0\n",
    "#     def __init__(self, description):\n",
    "#         super().__init__(description = description)\n",
    "        \n",
    "#     bindto = ['xilinx.com:hls:processNextBit:1.0']\n",
    "        \n",
    "#     def start(self):\n",
    "#         self.write(Decoder.CONTROL_REGISTER, 0x01);"
   ]
  },
  {
   "cell_type": "code",
   "execution_count": 8,
   "metadata": {},
   "outputs": [
    {
     "data": {
      "application/javascript": "\ntry {\nrequire(['notebook/js/codecell'], function(codecell) {\n  codecell.CodeCell.options_default.highlight_modes[\n      'magic_text/x-csrc'] = {'reg':[/^%%microblaze/]};\n  Jupyter.notebook.events.one('kernel_ready.Kernel', function(){\n      Jupyter.notebook.get_cells().map(function(cell){\n          if (cell.cell_type == 'code'){ cell.auto_highlight(); } }) ;\n  });\n});\n} catch (e) {};\n"
     },
     "metadata": {},
     "output_type": "display_data"
    },
    {
     "data": {
      "application/javascript": "\ntry {\nrequire(['notebook/js/codecell'], function(codecell) {\n  codecell.CodeCell.options_default.highlight_modes[\n      'magic_text/x-csrc'] = {'reg':[/^%%pybind11/]};\n  Jupyter.notebook.events.one('kernel_ready.Kernel', function(){\n      Jupyter.notebook.get_cells().map(function(cell){\n          if (cell.cell_type == 'code'){ cell.auto_highlight(); } }) ;\n  });\n});\n} catch (e) {};\n"
     },
     "metadata": {},
     "output_type": "display_data"
    }
   ],
   "source": [
    "class HWDecoder(Decoder): # \"/home/xilinx/pynq/overlays/project/decoder/process_next_bit.bit\"\n",
    "    def __init__(self, overlay_file, stream_buf_size = 100) -> None:\n",
    "        self.overlay = Overlay(overlay_file)\n",
    "        self.send_channel = self.overlay.processNextBit.axi_dma.sendchannel\n",
    "        self.recv_channel = self.overlay.processNextBit.axi_dma.recvchannel\n",
    "\n",
    "        self.stream_buf_size = stream_buf_size\n",
    "        self.bit_list = []\n",
    "\n",
    "    def process(self, in_bits, recv_chars):\n",
    "        # decoder.start()\n",
    "        self.send_channel.start()\n",
    "        self.recv_channel.start()\n",
    "        self.send_channel.transfer(in_bits)\n",
    "        self.send_channel.wait()\n",
    "        self.recv_channel.transfer(recv_chars)\n",
    "        self.recv_channel.wait()\n",
    "        \n",
    "        return recv_chars\n",
    "    \n",
    "    def process_next_bit(self, bit, finalize = False):\n",
    "        if finalize or len(self.bit_list) == self.stream_buf_size:\n",
    "            list_capacity = len(self.bit_list)\n",
    "\n",
    "            in_bits = allocate(shape=(list_capacity,), dtype=np.uint32)\n",
    "            recv_chars = allocate(shape=(list_capacity,), dtype=np.uint32)\n",
    "            \n",
    "            in_bits[:] = self.bit_list[:]\n",
    "            print(\"in_bits\", in_bits)\n",
    "            output = self.process(in_bits, recv_chars)\n",
    "            print(\"output\", output)\n",
    "            \n",
    "            a_offset = ord('a')\n",
    "            letter_list = [(chr(letter+a_offset-1) if letter else ' ') for letter in recv_chars]\n",
    "            return_letter = ''.join(letter_list)\n",
    "            self.bit_list = []\n",
    "            del in_bits, recv_chars\n",
    "            \n",
    "            return return_letter\n",
    "        else:\n",
    "            self.bit_list.append(bit)\n",
    "\n",
    "    def finalize_hw(self):\n",
    "        return self.process_next_bit(0, finalize = True)"
   ]
  },
  {
   "cell_type": "code",
   "execution_count": 34,
   "metadata": {},
   "outputs": [],
   "source": [
    "from pydub import AudioSegment\n",
    "import numpy as np\n",
    "import scipy.signal as signal\n",
    "import math"
   ]
  },
  {
   "cell_type": "code",
   "execution_count": 42,
   "metadata": {},
   "outputs": [],
   "source": [
    "class FFT:\n",
    "    def __init__(self, signal_data: list, sample_rate: int) -> None:\n",
    "        self.signal_data = signal_data\n",
    "        self.sample_rate = sample_rate\n",
    "\n",
    "    def transform(self) -> tuple[float, float, float]:\n",
    "        fft_result = np.fft.fft(self.signal_data, self.sample_rate)\n",
    "        freqs = np.fft.fftfreq(len(self.signal_data), 1/self.sample_rate)\n",
    "\n",
    "        max_freq_index = np.argmax(fft_result)\n",
    "        self.max_freq = freqs[max_freq_index]  \n",
    "\n",
    "        theshold = 0.1 * self.max_freq\n",
    "\n",
    "        lower_bound = np.where(fft_result[:max_freq_index] < theshold)[0][-1]\n",
    "        upper_bound = np.where(fft_result[max_freq_index+1:] > theshold)[0][0] + max_freq_index + 1\n",
    "\n",
    "        # print(lower_bound, upper_bound)\n",
    "\n",
    "        self.bandwidth = freqs[upper_bound] - freqs[lower_bound]\n",
    "        \n",
    "        # print(freqs[lower_bound], freqs[upper_bound])\n",
    "        \n",
    "        return self.sample_rate, self.max_freq, self.bandwidth\n"
   ]
  },
  {
   "cell_type": "code",
   "execution_count": 43,
   "metadata": {},
   "outputs": [],
   "source": [
    "class Filter:\n",
    "    def filter(self, unfiltered: list, sample_rate: int):\n",
    "        pass"
   ]
  },
  {
   "cell_type": "code",
   "execution_count": 63,
   "metadata": {},
   "outputs": [],
   "source": [
    "class SWAudioFilter:\n",
    "    def __init__(self, fft: FFT = FFT) -> None:\n",
    "        self.fft = fft\n",
    "\n",
    "    def gen_coef(self, num_coef: int, sample_rate: int, max_freq: float, bandwidth: float) -> list:\n",
    "        lower_cutoff = max_freq - bandwidth / 2\n",
    "        upper_cutoff = max_freq + bandwidth / 2\n",
    "\n",
    "        coefficients = list()\n",
    "\n",
    "        for i in range(int(num_coef)):\n",
    "            t = (i - (num_coef - 1) / 2) / sample_rate\n",
    "\n",
    "            next_coef = None\n",
    "            if i == (num_coef - 1) / 2:\n",
    "                next_coef = 2 * math.pi * bandwidth\n",
    "            else:\n",
    "                next_coef = (math.sin(2 * math.pi * upper_cutoff * t) \n",
    "                             - math.sin(2 * math.pi * lower_cutoff * t)) / (math.pi * t)\n",
    "                \n",
    "            coefficients.append(next_coef)\n",
    "\n",
    "        return coefficients\n",
    "\n",
    "\n",
    "    def filter(self, unfiltered: list, sample_rate: int):\n",
    "        fft = self.fft(unfiltered, sample_rate)\n",
    "        sampling_rate, max_freq, bandwidth = fft.transform()\n",
    "    \n",
    "        print(sampling_rate, max_freq, bandwidth)\n",
    "\n",
    "        # Bandwidth/ sampling_rate = num_of_coefs?\n",
    "        # Bandwidth is pretty specific, so maybe keep it at a hard like 11?\n",
    "        num_of_coefs = 200\n",
    "        coefficients = self.gen_coef(num_of_coefs, sampling_rate, max_freq, bandwidth)\n",
    "\n",
    "        print(coefficients)\n",
    "\n",
    "        shift_reg = [0] * num_of_coefs\n",
    "        filtered = list()\n",
    "        accumulator = 0\n",
    "        data = 0\n",
    "\n",
    "        # TODO: finish filter\n",
    "        for unfil_data in unfiltered:\n",
    "            for i in range(num_of_coefs - 1, 0, -1):\n",
    "                if i == 0:\n",
    "                    shift_reg[0] = unfil_data\n",
    "                    data = unfil_data\n",
    "                else:\n",
    "                    shift_reg[i] = shift_reg[i-1]\n",
    "                    data = shift_reg[i]\n",
    "\n",
    "                accumulator += data * coefficients[i]\n",
    "\n",
    "            filtered.append(accumulator)\n",
    "\n",
    "        return np.array(filtered)"
   ]
  },
  {
   "cell_type": "code",
   "execution_count": 64,
   "metadata": {},
   "outputs": [
    {
     "name": "stdout",
     "output_type": "stream",
     "text": [
      "44100 29.08092380798969 0.2774897309922686\n",
      "[0.5084813494448011, 0.5093983419718408, 0.5103065895355428, 0.511206076543311, 0.5120967875529419, 0.5129787072728806, 0.5138518205625183, 0.514716112432432, 0.5155715680446328, 0.51641817271283, 0.5172559119027041, 0.5180847712321023, 0.5189047364713435, 0.5197157935434478, 0.5205179285243343, 0.5213111276431274, 0.5220953772823331, 0.522870663978116, 0.5236369744205176, 0.5243942954536832, 0.5251426140760659, 0.525881917440705, 0.5266121928553565, 0.5273334277828164, 0.528045609841084, 0.5287487268035482, 0.5294427665992434, 0.5301277173130073, 0.5308035671857937, 0.5314703046147136, 0.5321279181533608, 0.5327763965119603, 0.5334157285575646, 0.5340459033142685, 0.5346669099633004, 0.5352787378434114, 0.5358813764508114, 0.5364748154395471, 0.5370590446215879, 0.5376340539669526, 0.5381998336040508, 0.5387563738196613, 0.5393036650592328, 0.5398416979269534, 0.5403704631859982, 0.5408899517586169, 0.5414001547263403, 0.5419010633301077, 0.5423926689704228, 0.5428749632074831, 0.5433479377613714, 0.5438115845121345, 0.5442658954999959, 0.5447108629254267, 0.5451464791493122, 0.5455727366930813, 0.5459896282388232, 0.5463971466294335, 0.5467952848687136, 0.547184036121495, 0.5475633937137923, 0.5479333511328383, 0.5482939020273224, 0.5486450402073157, 0.5489867596446115, 0.5493190544725939, 0.5496419189865024, 0.5499553476434685, 0.5502593350626108, 0.5505538760251066, 0.5508389654743688, 0.5511145985160103, 0.5513807704180426, 0.551637476610848, 0.5518847126873663, 0.5521224744030959, 0.55235075767618, 0.5525695585875217, 0.5527788733807354, 0.5529786984624029, 0.5531690304019327, 0.5533498659317502, 0.5535212019473094, 0.5536830355071434, 0.5538353638329356, 0.553978184309532, 0.5541114944850174, 0.554235292070741, 0.5543495749413925, 0.5544543411349689, 0.5545495888528887, 0.554635316459919, 0.5547115224843204, 0.5547782056178093, 0.5548353647155952, 0.5548829987963463, 0.5549211070423218, 0.5549496887992659, 0.5549687435765153, 0.5549782710469233, 0.5549782710469233, 0.5549687435765153, 0.5549496887992659, 0.5549211070423218, 0.5548829987963463, 0.5548353647155952, 0.5547782056178093, 0.5547115224843204, 0.554635316459919, 0.5545495888528887, 0.5544543411349689, 0.5543495749413925, 0.554235292070741, 0.5541114944850174, 0.553978184309532, 0.5538353638329356, 0.5536830355071434, 0.5535212019473094, 0.5533498659317502, 0.5531690304019327, 0.5529786984624029, 0.5527788733807354, 0.5525695585875217, 0.55235075767618, 0.5521224744030959, 0.5518847126873663, 0.551637476610848, 0.5513807704180426, 0.5511145985160103, 0.5508389654743688, 0.5505538760251066, 0.5502593350626108, 0.5499553476434685, 0.5496419189865024, 0.5493190544725939, 0.5489867596446115, 0.5486450402073157, 0.5482939020273224, 0.5479333511328383, 0.5475633937137923, 0.547184036121495, 0.5467952848687136, 0.5463971466294335, 0.5459896282388232, 0.5455727366930813, 0.5451464791493122, 0.5447108629254267, 0.5442658954999959, 0.5438115845121345, 0.5433479377613714, 0.5428749632074831, 0.5423926689704228, 0.5419010633301077, 0.5414001547263403, 0.5408899517586169, 0.5403704631859982, 0.5398416979269534, 0.5393036650592328, 0.5387563738196613, 0.5381998336040508, 0.5376340539669526, 0.5370590446215879, 0.5364748154395471, 0.5358813764508114, 0.5352787378434114, 0.5346669099633004, 0.5340459033142685, 0.5334157285575646, 0.5327763965119603, 0.5321279181533608, 0.5314703046147136, 0.5308035671857937, 0.5301277173130073, 0.5294427665992434, 0.5287487268035482, 0.528045609841084, 0.5273334277828164, 0.5266121928553565, 0.525881917440705, 0.5251426140760659, 0.5243942954536832, 0.5236369744205176, 0.522870663978116, 0.5220953772823331, 0.5213111276431274, 0.5205179285243343, 0.5197157935434478, 0.5189047364713435, 0.5180847712321023, 0.5172559119027041, 0.51641817271283, 0.5155715680446328, 0.514716112432432, 0.5138518205625183, 0.5129787072728806, 0.5120967875529419, 0.511206076543311, 0.5103065895355428, 0.5093983419718408, 0.5084813494448011]\n"
     ]
    }
   ],
   "source": [
    "audio = AudioSegment.from_file('SOS.mp3')\n",
    "sample_rate = audio.frame_rate\n",
    "signal_data = np.array(audio.get_array_of_samples())\n",
    "filter = SWAudioFilter(FFT)\n",
    "filtered = filter.filter(signal_data, sample_rate)\n",
    "\n",
    "from scipy.io.wavfile import write\n",
    "write('filtered_sos.wav', sample_rate, filtered)"
   ]
  },
  {
   "cell_type": "code",
   "execution_count": 5,
   "metadata": {},
   "outputs": [],
   "source": [
    "# ------------------------------------------------------\n",
    "# Translation\n",
    "# ------------------------------------------------------\n",
    "def translate(input_file, out = None, decoder_cls: Decoder = SWDecoder):\n",
    "    if out is None:\n",
    "        stdout = sys.stdout\n",
    "    else:\n",
    "        stdout = open(out, \"w\")\n",
    "\n",
    "    decoder = decoder_cls()\n",
    "\n",
    "    with open(input_file, \"r\") as in_file:\n",
    "        decoder.init_letters()\n",
    "        for line in in_file:\n",
    "            for bit in line:\n",
    "                if bit in [\" \", \"\\n\"]:\n",
    "                    continue\n",
    "\n",
    "                bit = int(bit)\n",
    "                \n",
    "                letter = decoder.process_next_bit(bit)\n",
    "\n",
    "                if letter is not None:\n",
    "                    print(letter, end = \"\", file = stdout)\n",
    "                    \n",
    "        print(decoder.finalize(), file = stdout)\n",
    "\n",
    "    if out is not None:\n",
    "        stdout.close()"
   ]
  },
  {
   "cell_type": "code",
   "execution_count": 6,
   "metadata": {},
   "outputs": [],
   "source": [
    "from pathlib import Path\n",
    "import time"
   ]
  },
  {
   "cell_type": "code",
   "execution_count": 7,
   "metadata": {},
   "outputs": [],
   "source": [
    "'''\n",
    "Basic Test Template to make other tests out of\n",
    "'''\n",
    "def translate_test(in_file, golden_file, result_file = None, time_it = False, **kwargs):\n",
    "    if result_file is None:\n",
    "        dot_split = in_file.split(\".\")\n",
    "        result_file = \"{}_out.{}\".format(\"\".join(dot_split[:-1]), dot_split[-1])\n",
    "    \n",
    "    timing = time.time()\n",
    "\n",
    "    translate(in_file, out=result_file, **kwargs)\n",
    "\n",
    "    if time_it:\n",
    "        timing = time.time() - timing\n",
    "    else:\n",
    "        timing = 0\n",
    "\n",
    "    correct_output = True\n",
    "\n",
    "    with open(result_file, \"r\") as results:\n",
    "        with open(golden_file, \"r\") as golden:\n",
    "            next_result = results.readline().strip().lower()\n",
    "            next_golden = golden.readline().strip().lower()\n",
    "\n",
    "            while next_result != \"\" and next_golden != \"\":\n",
    "                if next_result != next_golden:\n",
    "                    print(f\"'{next_result}' does not match '{next_golden}'\")\n",
    "                    correct_output = False\n",
    "                    break\n",
    "                next_result = results.readline()\n",
    "                next_golden = golden.readline()\n",
    "\n",
    "            if next_result != next_golden:\n",
    "                print(f\"One was empty:\\n'{next_result}' does not match '{next_golden}'\")\n",
    "                correct_output = False\n",
    "            \n",
    "#     Path(result_file).unlink()\n",
    "\n",
    "    if correct_output:\n",
    "        timing_statement = \"\" if not time_it else f\" in {timing:4.2} seconds\"\n",
    "        print(f\"Successfully translated {in_file}{timing_statement}\")\n",
    "\n",
    "    return correct_output\n",
    "                 \n"
   ]
  },
  {
   "cell_type": "code",
   "execution_count": 8,
   "metadata": {},
   "outputs": [
    {
     "name": "stdout",
     "output_type": "stream",
     "text": [
      "Successfully translated decoder_tests/test1.txt in 0.0046 seconds\n"
     ]
    }
   ],
   "source": [
    "'''\n",
    "Tests if the alphabet with no spaces is accurate\n",
    "'''\n",
    "def test1():\n",
    "    translate_test(\"decoder_tests/test1.txt\", \"decoder_tests/golden_out1.txt\", time_it = True)\n",
    "    \n",
    "test1()"
   ]
  },
  {
   "cell_type": "code",
   "execution_count": 9,
   "metadata": {},
   "outputs": [
    {
     "name": "stdout",
     "output_type": "stream",
     "text": [
      "Successfully translated decoder_tests/test2.txt in 0.002 seconds\n"
     ]
    }
   ],
   "source": [
    "'''\n",
    "Tests if the alphabet with 1 space is accuate\n",
    "'''\n",
    "def test2():\n",
    "    translate_test(\"decoder_tests/test2.txt\", \"decoder_tests/golden_out2_3.txt\", time_it = True)\n",
    "\n",
    "test2()"
   ]
  },
  {
   "cell_type": "code",
   "execution_count": 10,
   "metadata": {},
   "outputs": [
    {
     "name": "stdout",
     "output_type": "stream",
     "text": [
      "Successfully translated decoder_tests/test3.txt in 0.002 seconds\n"
     ]
    }
   ],
   "source": [
    "'''\n",
    "Tests if multiple spaces are ommitted\n",
    "'''\n",
    "def test3():\n",
    "    translate_test(\"decoder_tests/test3.txt\", \"decoder_tests/golden_out2_3.txt\", time_it = True)\n",
    "\n",
    "test3()"
   ]
  },
  {
   "cell_type": "code",
   "execution_count": 11,
   "metadata": {},
   "outputs": [
    {
     "name": "stdout",
     "output_type": "stream",
     "text": [
      "Successfully translated decoder_tests/test4.txt in 0.0057 seconds\n"
     ]
    }
   ],
   "source": [
    "'''\n",
    "Tests the \"the quick brown fox jumps over the lazy dog\"\n",
    "'''\n",
    "def test4():\n",
    "    translate_test(\"decoder_tests/test4.txt\", \"decoder_tests/golden_out4.txt\", time_it = True)\n",
    "\n",
    "test4()"
   ]
  },
  {
   "cell_type": "code",
   "execution_count": 79,
   "metadata": {},
   "outputs": [
    {
     "name": "stdout",
     "output_type": "stream",
     "text": [
      "[1, 0, 1, 1, 1, 0, 0, 0]\n",
      "in_bits [1 0 1 1 1 0 0 0]\n",
      "output [0 0 0 0 0 0 0 0]\n",
      "'\u0000\u0000\u0000\u0000\u0000\u0000\u0000\u0000' does not match 'a'\n",
      "One was empty:\n",
      "'\u0000\u0000\u0000\u0000\u0000\u0000\u0000\u0000' does not match 'a'\n"
     ]
    }
   ],
   "source": [
    "def testA_hw():\n",
    "    translate_test(\"decoder_tests/untitled.txt\", \"decoder_tests/untitled1.txt\", time_it = True, decoder_cls = HWDecoder)\n",
    "testA_hw()"
   ]
  },
  {
   "cell_type": "code",
   "execution_count": 80,
   "metadata": {},
   "outputs": [
    {
     "name": "stdout",
     "output_type": "stream",
     "text": [
      "[1, 0, 1, 1, 1, 0, 0, 0, 1, 1, 1, 0, 1, 0, 1, 0, 1, 0, 0, 0, 1, 1, 1, 0, 1, 0, 1, 1, 1, 0, 1, 0, 0, 0, 1, 1, 1, 0, 1, 0, 1, 0, 0, 0, 1, 0, 0, 0, 1, 0, 1, 0, 1, 1, 1, 0, 1, 0, 0, 0, 1, 1, 1, 0, 1, 1, 1, 0, 1, 0, 0, 0, 1, 0, 1, 0, 1, 0, 1, 0, 0, 0, 1, 0, 1, 0, 0, 0, 1, 0, 1, 1, 1, 0, 1, 1, 1, 0, 1, 1]\n",
      "in_bits [1 0 1 1 1 0 0 0 1 1 1 0 1 0 1 0 1 0 0 0 1 1 1 0 1 0 1 1 1 0 1 0 0 0 1 1 1\n",
      " 0 1 0 1 0 0 0 1 0 0 0 1 0 1 0 1 1 1 0 1 0 0 0 1 1 1 0 1 1 1 0 1 0 0 0 1 0\n",
      " 1 0 1 0 1 0 0 0 1 0 1 0 0 0 1 0 1 1 1 0 1 1 1 0 1 1]\n",
      "output [0 0 0 0 0 0 0 0 0 0 0 0 0 0 0 0 0 0 0 0 0 0 0 0 0 0 0 0 0 0 0 0 0 0 0 0 0\n",
      " 0 0 0 0 0 0 0 0 0 0 0 0 0 0 0 0 0 0 0 0 0 0 0 0 0 0 0 0 0 0 0 0 0 0 0 0 0\n",
      " 0 0 0 0 0 0 0 0 0 0 0 0 0 0 0 0 0 0 0 0 0 0 0 0 0 0]\n",
      "[0, 0, 0, 1, 1, 1, 0, 1, 0, 1, 1, 1, 0, 0, 0, 1, 0, 1, 1, 1, 0, 1, 0, 1, 0, 0, 0, 1, 1, 1, 0, 1, 1, 1, 0, 0, 0, 1, 1, 1, 0, 1, 0, 0, 0, 1, 1, 1, 0, 1, 1, 1, 0, 1, 1, 1, 0, 0, 0, 1, 0, 1, 1, 1, 0, 1, 1, 1, 0, 1, 0, 0, 0, 1, 1, 1, 0, 1, 1, 1, 0, 1, 0, 1, 1, 1, 0, 0, 0, 1, 0, 1, 1, 1, 0, 1, 0, 0, 0, 1]\n",
      "in_bits [0 0 0 1 1 1 0 1 0 1 1 1 0 0 0 1 0 1 1 1 0 1 0 1 0 0 0 1 1 1 0 1 1 1 0 0 0\n",
      " 1 1 1 0 1 0 0 0 1 1 1 0 1 1 1 0 1 1 1 0 0 0 1 0 1 1 1 0 1 1 1 0 1 0 0 0 1\n",
      " 1 1 0 1 1 1 0 1 0 1 1 1 0 0 0 1 0 1 1 1 0 1 0 0 0 1]\n",
      "output [1 0 0 0 0 0 0 0 0 0 0 0 0 0 0 0 0 0 0 0 0 0 0 0 0 0 0 0 0 0 0 0 0 0 0 0 0\n",
      " 0 0 0 0 0 0 0 0 0 0 0 0 0 0 0 0 0 0 0 0 0 0 0 0 0 0 0 0 0 0 0 0 0 0 0 0 0\n",
      " 0 0 0 0 0 0 0 0 0 0 0 0 0 0 0 0 0 0 0 0 0 0 0 0 0 0]\n",
      "[1, 0, 1, 0, 0, 0, 1, 1, 1, 0, 0, 0, 1, 0, 1, 0, 1, 1, 1, 0, 0, 0, 1, 0, 1, 0, 1, 0, 1, 1, 1, 0, 0, 0, 1, 0, 1, 1, 1, 0, 1, 1, 1, 0, 0, 0, 1, 1, 1, 0, 1, 0, 1, 0, 1, 1, 1, 0, 0, 0, 1, 1, 1, 0, 1, 0, 1, 1, 1, 0, 1, 1, 1, 0, 0, 0, 1, 1, 1, 0, 1, 1, 1, 0, 1, 0, 1, 0, 0, 0]\n",
      "in_bits [1 0 1 0 0 0 1 1 1 0 0 0 1 0 1 0 1 1 1 0 0 0 1 0 1 0 1 0 1 1 1 0 0 0 1 0 1\n",
      " 1 1 0 1 1 1 0 0 0 1 1 1 0 1 0 1 0 1 1 1 0 0 0 1 1 1 0 1 0 1 1 1 0 1 1 1 0\n",
      " 0 0 1 1 1 0 1 1 1 0 1 0 1 0 0 0]\n",
      "output [1 0 0 0 0 0 0 0 0 0 0 0 0 0 0 0 0 0 0 0 0 0 0 0 0 0 0 0 0 0 0 0 0 0 0 0 0\n",
      " 0 0 0 0 0 0 0 0 0 0 0 0 0 0 0 0 0 0 0 0 0 0 0 0 0 0 0 0 0 0 0 0 0 0 0 0 0\n",
      " 0 0 0 0 0 0 0 0 0 0 0 0 0 0 0 0]\n",
      "'\u0000\u0000\u0000\u0000\u0000\u0000\u0000\u0000\u0000\u0000\u0000\u0000\u0000\u0000\u0000\u0000\u0000\u0000\u0000\u0000\u0000\u0000\u0000\u0000\u0000\u0000\u0000\u0000\u0000\u0000\u0000\u0000\u0000\u0000\u0000\u0000\u0000\u0000\u0000\u0000\u0000\u0000\u0000\u0000\u0000\u0000\u0000\u0000\u0000\u0000\u0000\u0000\u0000\u0000\u0000\u0000\u0000\u0000\u0000\u0000\u0000\u0000\u0000\u0000\u0000\u0000\u0000\u0000\u0000\u0000\u0000\u0000\u0000\u0000\u0000\u0000\u0000\u0000\u0000\u0000\u0000\u0000\u0000\u0000\u0000\u0000\u0000\u0000\u0000\u0000\u0000\u0000\u0000\u0000\u0000\u0000\u0000\u0000\u0000\u0000\u0001\u0000\u0000\u0000\u0000\u0000\u0000\u0000\u0000\u0000\u0000\u0000\u0000\u0000\u0000\u0000\u0000\u0000\u0000\u0000\u0000\u0000\u0000\u0000\u0000\u0000\u0000\u0000\u0000\u0000\u0000\u0000\u0000\u0000\u0000\u0000\u0000\u0000\u0000\u0000\u0000\u0000\u0000\u0000\u0000\u0000\u0000\u0000\u0000\u0000\u0000\u0000\u0000\u0000\u0000\u0000\u0000\u0000\u0000\u0000\u0000\u0000\u0000\u0000\u0000\u0000\u0000\u0000\u0000\u0000\u0000\u0000\u0000\u0000\u0000\u0000\u0000\u0000\u0000\u0000\u0000\u0000\u0000\u0000\u0000\u0000\u0000\u0000\u0000\u0000\u0000\u0000\u0000\u0000\u0000\u0000\u0000\u0000\u0000\u0000\u0001\u0000\u0000\u0000\u0000\u0000\u0000\u0000\u0000\u0000\u0000\u0000\u0000\u0000\u0000\u0000\u0000\u0000\u0000\u0000\u0000\u0000\u0000\u0000\u0000\u0000\u0000\u0000\u0000\u0000\u0000\u0000\u0000\u0000\u0000\u0000\u0000\u0000\u0000\u0000\u0000\u0000\u0000\u0000\u0000\u0000\u0000\u0000\u0000\u0000\u0000\u0000\u0000\u0000\u0000\u0000\u0000\u0000\u0000\u0000\u0000\u0000\u0000\u0000\u0000\u0000\u0000\u0000\u0000\u0000\u0000\u0000\u0000\u0000\u0000\u0000\u0000\u0000\u0000\u0000\u0000\u0000\u0000\u0000\u0000\u0000\u0000\u0000\u0000\u0000' does not match 'abcdefghijklmnopqrstuvwxyz'\n",
      "One was empty:\n",
      "'\u0000\u0000\u0000\u0000\u0000\u0000\u0000\u0000\u0000\u0000\u0000\u0000\u0000\u0000\u0000\u0000\u0000\u0000\u0000\u0000\u0000\u0000\u0000\u0000\u0000\u0000\u0000\u0000\u0000\u0000\u0000\u0000\u0000\u0000\u0000\u0000\u0000\u0000\u0000\u0000\u0000\u0000\u0000\u0000\u0000\u0000\u0000\u0000\u0000\u0000\u0000\u0000\u0000\u0000\u0000\u0000\u0000\u0000\u0000\u0000\u0000\u0000\u0000\u0000\u0000\u0000\u0000\u0000\u0000\u0000\u0000\u0000\u0000\u0000\u0000\u0000\u0000\u0000\u0000\u0000\u0000\u0000\u0000\u0000\u0000\u0000\u0000\u0000\u0000\u0000\u0000\u0000\u0000\u0000\u0000\u0000\u0000\u0000\u0000\u0000\u0001\u0000\u0000\u0000\u0000\u0000\u0000\u0000\u0000\u0000\u0000\u0000\u0000\u0000\u0000\u0000\u0000\u0000\u0000\u0000\u0000\u0000\u0000\u0000\u0000\u0000\u0000\u0000\u0000\u0000\u0000\u0000\u0000\u0000\u0000\u0000\u0000\u0000\u0000\u0000\u0000\u0000\u0000\u0000\u0000\u0000\u0000\u0000\u0000\u0000\u0000\u0000\u0000\u0000\u0000\u0000\u0000\u0000\u0000\u0000\u0000\u0000\u0000\u0000\u0000\u0000\u0000\u0000\u0000\u0000\u0000\u0000\u0000\u0000\u0000\u0000\u0000\u0000\u0000\u0000\u0000\u0000\u0000\u0000\u0000\u0000\u0000\u0000\u0000\u0000\u0000\u0000\u0000\u0000\u0000\u0000\u0000\u0000\u0000\u0000\u0001\u0000\u0000\u0000\u0000\u0000\u0000\u0000\u0000\u0000\u0000\u0000\u0000\u0000\u0000\u0000\u0000\u0000\u0000\u0000\u0000\u0000\u0000\u0000\u0000\u0000\u0000\u0000\u0000\u0000\u0000\u0000\u0000\u0000\u0000\u0000\u0000\u0000\u0000\u0000\u0000\u0000\u0000\u0000\u0000\u0000\u0000\u0000\u0000\u0000\u0000\u0000\u0000\u0000\u0000\u0000\u0000\u0000\u0000\u0000\u0000\u0000\u0000\u0000\u0000\u0000\u0000\u0000\u0000\u0000\u0000\u0000\u0000\u0000\u0000\u0000\u0000\u0000\u0000\u0000\u0000\u0000\u0000\u0000\u0000\u0000\u0000\u0000\u0000\u0000' does not match 'abcdefghijklmnopqrstuvwxyz'\n"
     ]
    }
   ],
   "source": [
    "def test1_hw():\n",
    "    translate_test(\"decoder_tests/test1.txt\", \"decoder_tests/golden_out1.txt\", time_it = True, decoder_cls = HWDecoder)\n",
    "    \n",
    "test1_hw()"
   ]
  },
  {
   "cell_type": "code",
   "execution_count": null,
   "metadata": {},
   "outputs": [],
   "source": []
  }
 ],
 "metadata": {
  "kernelspec": {
   "display_name": "Python 3 (ipykernel)",
   "language": "python",
   "name": "python3"
  },
  "language_info": {
   "codemirror_mode": {
    "name": "ipython",
    "version": 3
   },
   "file_extension": ".py",
   "mimetype": "text/x-python",
   "name": "python",
   "nbconvert_exporter": "python",
   "pygments_lexer": "ipython3",
   "version": "3.10.8"
  }
 },
 "nbformat": 4,
 "nbformat_minor": 2
}
