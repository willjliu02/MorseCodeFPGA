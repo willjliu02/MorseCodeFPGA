{
 "cells": [
  {
   "cell_type": "code",
   "execution_count": 51,
   "metadata": {},
   "outputs": [],
   "source": [
    "import numpy as np\n",
    "import scipy.signal as signal\n",
    "from pydub import AudioSegment\n",
    "import os\n",
    "import matplotlib.pyplot as plt\n",
    "\n",
    "\n",
    "def morse_code_translator(signal, sample_rate):\n",
    "    # Apply FFT\n",
    "    fft_result = np.fft.fft(signal)\n",
    "    fft_magnitude = np.abs(fft_result)  # Compute magnitude of FFT result\n",
    "\n",
    "    # Find important frequencies\n",
    "    freqs = np.fft.fftfreq(len(signal), 1 / sample_rate)\n",
    "    max_freq_index = np.argmax(fft_magnitude)\n",
    "    max_freq = freqs[np.argmax(fft_magnitude)]  # Find the frequency with maximum magnitude\n",
    "    print(\"Max Frequency:\", max_freq)\n",
    "    # Find important frequencies\n",
    "    # Example: You might determine important frequencies based on their magnitudes in the FFT result\n",
    "    threshold = 0.1 * fft_magnitude[max_freq_index]\n",
    "    lower_index = np.where(fft_magnitude[:max_freq_index] < threshold)[0][-1]\n",
    "    upper_index = np.where(fft_magnitude[max_freq_index:] < threshold)[0][0] + max_freq_index\n",
    "    print(freqs[lower_index-10:upper_index+10])\n",
    "    print(fft_magnitude[lower_index-10:upper_index+10])\n",
    "    print(lower_index, max_freq_index, upper_index)\n",
    "    bandwidth = freqs[upper_index] - freqs[lower_index]\n",
    "    print(\"Bandwidth:\", bandwidth)\n",
    "    t = np.arange(256)\n",
    "    plt.plot(freqs, fft_result.real)\n",
    "    plt.show()\n",
    "    # Filter design\n",
    "    # Example: You might design a bandpass filter based on the important frequencies\n",
    "    \n",
    "    # Apply bandpass filter\n",
    "    # Example: You might use scipy's bandpass filter function\n",
    "    # filtered_signal = signal.lfilter(b, a, signal)\n",
    "    \n",
    "    #return filtered_signal\n",
    "\n"
   ]
  },
  {
   "cell_type": "code",
   "execution_count": 53,
   "metadata": {},
   "outputs": [
    {
     "name": "stdout",
     "output_type": "stream",
     "text": [
      "Sample Rate: 44100\n",
      "Signal Data:[0 0 0 ... 0 0 0]\n",
      "Max Frequency: 525.2325628221649\n",
      "[524.1226039  524.17810184 524.23359979 524.28909774 524.34459568\n",
      " 524.40009363 524.45559158 524.51108952 524.56658747 524.62208541\n",
      " 524.67758336 524.73308131 524.78857925 524.8440772  524.89957514\n",
      " 524.95507309 525.01057104 525.06606898 525.12156693 525.17706488\n",
      " 525.23256282 525.28806077 525.34355871 525.39905666 525.45455461\n",
      " 525.51005255 525.5655505  525.62104845 525.67654639 525.73204434\n",
      " 525.78754228 525.84304023 525.89853818 525.95403612 526.00953407\n",
      " 526.06503202]\n",
      "[1.13754688e+08 7.46062047e+07 9.91789160e+07 4.05616303e+08\n",
      " 2.11551951e+08 1.39807800e+08 1.87278947e+08 6.09710922e+08\n",
      " 3.30400777e+08 9.71219854e+07 6.83370142e+06 2.36521074e+08\n",
      " 3.39339461e+08 1.59472449e+08 1.33952404e+08 3.72968334e+08\n",
      " 6.96836667e+08 3.83664988e+08 4.24868830e+08 8.68786571e+08\n",
      " 1.08220025e+09 2.67397469e+08 1.78227103e+08 3.17804190e+08\n",
      " 6.41087111e+08 1.53633110e+08 9.39815336e+07 1.43484539e+08\n",
      " 5.31007698e+08 1.36775423e+08 1.05096020e+08 1.33748698e+08\n",
      " 4.11220346e+08 4.51871070e+07 2.97036681e+07 4.24995858e+07]\n",
      "9454 9464 9470\n",
      "Bandwidth: 0.8879671391753163\n"
     ]
    },
    {
     "data": {
      "image/png": "[encoded data removed]",
      "text/plain": [
       "<Figure size 640x480 with 1 Axes>"
      ]
     },
     "metadata": {},
     "output_type": "display_data"
    }
   ],
   "source": [
    "\n",
    "# Read audio file\n",
    "file_path = \"SOS.mp3\"  # Replace with your MP3 file path\n",
    "audio = AudioSegment.from_mp3(file_path)\n",
    "sample_rate = audio.frame_rate\n",
    "print(\"Sample Rate: \"+ str(sample_rate))\n",
    "signal_data = np.array(audio.get_array_of_samples())\n",
    "print(\"Signal Data:\" +  str(signal_data))\n",
    "\n",
    "# Apply morse code translator\n",
    "filtered_signal = morse_code_translator(signal_data, sample_rate)\n",
    "\n",
    "# Output filtered signal or further process it"
   ]
  },
  {
   "cell_type": "code",
   "execution_count": null,
   "metadata": {},
   "outputs": [],
   "source": []
  }
 ],
 "metadata": {
  "kernelspec": {
   "display_name": "Python 3",
   "language": "python",
   "name": "python3"
  },
  "language_info": {
   "codemirror_mode": {
    "name": "ipython",
    "version": 3
   },
   "file_extension": ".py",
   "mimetype": "text/x-python",
   "name": "python",
   "nbconvert_exporter": "python",
   "pygments_lexer": "ipython3",
   "version": "3.10.5"
  }
 },
 "nbformat": 4,
 "nbformat_minor": 2
}
