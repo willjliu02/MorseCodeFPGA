{
 "cells": [
  {
   "cell_type": "code",
   "execution_count": 1,
   "metadata": {},
   "outputs": [],
   "source": [
    "# ------------------------------------------------------\n",
    "# Letter State Machine\n",
    "# ------------------------------------------------------\n",
    "LETTERS = \"ETIANMSURWDKGOHVF L PJBXCYZQ\"\n",
    "\n",
    "CURRENT_LETTER = 0\n",
    "\n",
    "'''\n",
    "Initializes the machine\n",
    "'''\n",
    "def init_letters():\n",
    "    global CURRENT_LETTER\n",
    "\n",
    "    CURRENT_LETTER = 0\n",
    "\n",
    "'''\n",
    "Shifts the state machine to the next letter\n",
    "\n",
    "Params:\n",
    "- is_dash(bool): is really some bit indiciating if the incoming symbol is a dot or dash\n",
    "'''\n",
    "def shift_letter(is_dash: bool) -> None:\n",
    "    global CURRENT_LETTER\n",
    "\n",
    "    CURRENT_LETTER = CURRENT_LETTER * 2 + is_dash + 1\n",
    "\n",
    "'''\n",
    "Gets the letter that the current state machine is on\n",
    "\n",
    "Returns:\n",
    "The length 1 string that has the character\n",
    "None, if CURRENT_LETTER is not in the range of the list of letters\n",
    "'''\n",
    "def get_letter() -> str: \n",
    "    global LETTERS, CURRENT_LETTER\n",
    "\n",
    "    ret_letter = \"\"\n",
    "\n",
    "    if CURRENT_LETTER > 0 and CURRENT_LETTER <= len(LETTERS):\n",
    "        ret_letter = LETTERS[CURRENT_LETTER - 1]\n",
    "\n",
    "    CURRENT_LETTER = 0\n",
    "\n",
    "    return ret_letter\n",
    "\n",
    "'''\n",
    "Finishes the machine and grabs the last letter\n",
    "'''\n",
    "def finalize() -> str:\n",
    "    return get_letter()"
   ]
  },
  {
   "cell_type": "code",
   "execution_count": 2,
   "metadata": {},
   "outputs": [],
   "source": [
    "from enum import IntEnum\n",
    "\n",
    "BEAT_ERROR_RANGE = 0.15\n",
    "\n",
    "'''\n",
    "A list of the possible parsings from the morse code\n",
    "'''\n",
    "class MEANING(IntEnum):\n",
    "    # Symbol\n",
    "    DOT = 0\n",
    "    DASH = 1\n",
    "\n",
    "    # Pauses\n",
    "    NEXT_SYMBOL = 2\n",
    "    NEXT_LETTER = 3\n",
    "    NEXT_WORD = 4\n",
    "\n",
    "    # Unknown\n",
    "    UNKNOWN = -1\n",
    "        \n",
    "'''\n",
    "Removes noise from the beat_duration\n",
    "\n",
    "Params:\n",
    "- beat_nums(float): the rough number of beats\n",
    "'''\n",
    "def remove_noise(beat_nums: float):\n",
    "    global BEAT_ERROR_RANGE\n",
    "\n",
    "    error_ranges = [(dur, dur * (1 - BEAT_ERROR_RANGE), dur * (1 + (BEAT_ERROR_RANGE if dur != 7 else 1))) for dur in (1,3,7)]\n",
    "\n",
    "    for (duration, duration_min, duration_max) in error_ranges:\n",
    "        if beat_nums >= duration_min and beat_nums <= duration_max:\n",
    "            return duration\n",
    "\n",
    "    return -1"
   ]
  },
  {
   "cell_type": "code",
   "execution_count": 3,
   "metadata": {},
   "outputs": [],
   "source": [
    "'''\n",
    "Processes some parsed information and interacts with the \"letter\" state machine\n",
    "\n",
    "Params:\n",
    "- meaning (MEANING): some parsed info from the bitstream input\n",
    "\n",
    "Returns:\n",
    "Either a letter, a letter + a space, or None\n",
    "'''\n",
    "def process(meaning: MEANING) -> str | None:\n",
    "    ret_proc = None\n",
    "    match meaning:\n",
    "        case MEANING.DOT:\n",
    "            shift_letter(MEANING.DOT)\n",
    "        case MEANING.DASH:\n",
    "            shift_letter(MEANING.DASH)\n",
    "        case MEANING.NEXT_LETTER:\n",
    "            ret_proc = get_letter()\n",
    "        case MEANING.NEXT_WORD:\n",
    "            ret_proc = get_letter() + \" \"\n",
    "\n",
    "    return ret_proc"
   ]
  },
  {
   "cell_type": "code",
   "execution_count": 4,
   "metadata": {},
   "outputs": [],
   "source": [
    "# ------------------------------------------------------\n",
    "# Beat Decoder\n",
    "# ------------------------------------------------------\n",
    "BEAT_DURATION = 1 # How many bits is a beat?\n",
    "\n",
    "PREV_BIT = 0 # The value of the previous bit\n",
    "NUM_OF_BIT = 0 # The number of occurrences of \"prev bit\"\n",
    "\n",
    "'''\n",
    "Determines what the last string of bit B means\n",
    "\n",
    "Returns:\n",
    "The information as one of the discrete meanings above.\n",
    "'''\n",
    "def parse_prev_inputs():\n",
    "    global PREV_BIT, NUM_OF_BIT\n",
    "\n",
    "    # TODO: eventually make this into some type of range\n",
    "    beats = remove_noise(NUM_OF_BIT / BEAT_DURATION)\n",
    "\n",
    "    meaning = None\n",
    "    match (PREV_BIT, beats):\n",
    "        case (1, 1):\n",
    "            meaning = MEANING.DOT\n",
    "        case (1, 3):\n",
    "            meaning = MEANING.DASH\n",
    "        case (0, 1):\n",
    "            meaning = MEANING.NEXT_SYMBOL\n",
    "        case (0, 3):\n",
    "            meaning = MEANING.NEXT_LETTER\n",
    "        case (0, 7):\n",
    "            meaning = MEANING.NEXT_WORD\n",
    "        case _:\n",
    "            meaning = MEANING.UNKNOWN\n",
    "    return meaning\n",
    "\n",
    "'''\n",
    "Processes the next bit\n",
    "\n",
    "Params:\n",
    "- bit(int): either a 0 or 1 that is either an \"on\" or \"off\" signal from the sender\n",
    "\n",
    "Returns:\n",
    "A letter if we have reached the end of a letter/word, else None\n",
    "'''\n",
    "def process_next_bit(bit: int) -> str | None:\n",
    "    global PREV_BIT, NUM_OF_BIT\n",
    "\n",
    "    if bit == PREV_BIT:\n",
    "        NUM_OF_BIT += 1\n",
    "    else:\n",
    "        meaning = parse_prev_inputs()\n",
    "        maybe_output = process(meaning)\n",
    "\n",
    "        PREV_BIT = bit\n",
    "        NUM_OF_BIT = 1\n",
    "\n",
    "        return maybe_output"
   ]
  },
  {
   "cell_type": "code",
   "execution_count": 5,
   "metadata": {},
   "outputs": [],
   "source": [
    "import sys"
   ]
  },
  {
   "cell_type": "code",
   "execution_count": 6,
   "metadata": {},
   "outputs": [],
   "source": [
    "from pynq import Overlay, DefaultIP, allocate\n",
    "import numpy as np"
   ]
  },
  {
   "cell_type": "code",
   "execution_count": 7,
   "metadata": {},
   "outputs": [],
   "source": [
    "class Decoder(DefaultIP):\n",
    "    CONTROL_REGISTER = 0x0\n",
    "    def __init__(self, description):\n",
    "        super().__init__(description = description)\n",
    "        \n",
    "    bindto = ['xilinx.com:hls:processNextBit:1.0']\n",
    "        \n",
    "    def start(self):\n",
    "        self.write(Decoder.CONTROL_REGISTER, 0x01);"
   ]
  },
  {
   "cell_type": "code",
   "execution_count": 8,
   "metadata": {},
   "outputs": [
    {
     "data": {
      "application/javascript": [
       "\n",
       "try {\n",
       "require(['notebook/js/codecell'], function(codecell) {\n",
       "  codecell.CodeCell.options_default.highlight_modes[\n",
       "      'magic_text/x-csrc'] = {'reg':[/^%%microblaze/]};\n",
       "  Jupyter.notebook.events.one('kernel_ready.Kernel', function(){\n",
       "      Jupyter.notebook.get_cells().map(function(cell){\n",
       "          if (cell.cell_type == 'code'){ cell.auto_highlight(); } }) ;\n",
       "  });\n",
       "});\n",
       "} catch (e) {};\n"
      ]
     },
     "metadata": {},
     "output_type": "display_data"
    },
    {
     "data": {
      "application/javascript": [
       "\n",
       "try {\n",
       "require(['notebook/js/codecell'], function(codecell) {\n",
       "  codecell.CodeCell.options_default.highlight_modes[\n",
       "      'magic_text/x-csrc'] = {'reg':[/^%%pybind11/]};\n",
       "  Jupyter.notebook.events.one('kernel_ready.Kernel', function(){\n",
       "      Jupyter.notebook.get_cells().map(function(cell){\n",
       "          if (cell.cell_type == 'code'){ cell.auto_highlight(); } }) ;\n",
       "  });\n",
       "});\n",
       "} catch (e) {};\n"
      ]
     },
     "metadata": {},
     "output_type": "display_data"
    }
   ],
   "source": [
    "overlay = Overlay(\"/home/xilinx/pynq/overlays/project/decoder/process_next_bit.bit\")\n",
    "decoder = overlay.processNextBit_0"
   ]
  },
  {
   "cell_type": "code",
   "execution_count": 9,
   "metadata": {},
   "outputs": [],
   "source": [
    "send_channel = overlay.axi_dma.sendchannel\n",
    "recv_channel = overlay.axi_dma.recvchannel"
   ]
  },
  {
   "cell_type": "code",
   "execution_count": 10,
   "metadata": {},
   "outputs": [],
   "source": [
    "def process_next_bit_hw(in_bits, recv_chars):\n",
    "    global decoder, send_channel, recv_channel\n",
    "    decoder.start()\n",
    "    send_channel.start()\n",
    "    recv_channel.start()\n",
    "    send_channel.transfer(in_bits)\n",
    "    send_channel.wait()\n",
    "    recv_channel.transfer(recv_chars)\n",
    "    recv_channel.wait()\n",
    "    \n",
    "    return recv_chars"
   ]
  },
  {
   "cell_type": "code",
   "execution_count": 11,
   "metadata": {},
   "outputs": [
    {
     "data": {
      "text/plain": [
       "RegisterMap {\n",
       "  CTRL = Register(AP_START=0, AP_DONE=0, AP_IDLE=1, AP_READY=0, RESERVED_1=0, AUTO_RESTART=0, RESERVED_2=0, INTERRUPT=0, RESERVED_3=0),\n",
       "  GIER = Register(Enable=0, RESERVED=0),\n",
       "  IP_IER = Register(CHAN0_INT_EN=0, CHAN1_INT_EN=0, RESERVED_0=0),\n",
       "  IP_ISR = Register(CHAN0_INT_ST=0, CHAN1_INT_ST=0, RESERVED_0=0)\n",
       "}"
      ]
     },
     "execution_count": 11,
     "metadata": {},
     "output_type": "execute_result"
    }
   ],
   "source": [
    "decoder.register_map"
   ]
  },
  {
   "cell_type": "code",
   "execution_count": 12,
   "metadata": {},
   "outputs": [],
   "source": [
    "bit_list = []"
   ]
  },
  {
   "cell_type": "code",
   "execution_count": 74,
   "metadata": {},
   "outputs": [],
   "source": [
    "def process_hw(bit, finalize = False):\n",
    "    global bit_list\n",
    "    list_capacity = 100\n",
    "    if finalize or len(bit_list) == list_capacity:\n",
    "        print(bit_list)\n",
    "        list_capacity = len(bit_list)\n",
    "        in_bits = allocate(shape=(list_capacity,), dtype=np.uint32)\n",
    "        recv_chars = allocate(shape=(list_capacity,), dtype=np.uint32)\n",
    "        \n",
    "        in_bits[:] = bit_list[:]\n",
    "        print(\"in_bits\", in_bits)\n",
    "        output = process_next_bit_hw(in_bits, recv_chars)\n",
    "        \n",
    "        print(\"output\", output)\n",
    "        \n",
    "        return_letter = ''.join(map(chr, recv_chars))\n",
    "        bit_list = []\n",
    "        del in_bits, recv_chars\n",
    "        \n",
    "        return return_letter\n",
    "    else:\n",
    "        bit_list.append(bit)"
   ]
  },
  {
   "cell_type": "code",
   "execution_count": 75,
   "metadata": {},
   "outputs": [],
   "source": [
    "def finalize_hw():\n",
    "    return process_hw(0, finalize = True)"
   ]
  },
  {
   "cell_type": "code",
   "execution_count": 61,
   "metadata": {},
   "outputs": [],
   "source": [
    "# ------------------------------------------------------\n",
    "# Translation\n",
    "# ------------------------------------------------------\n",
    "def translate(input_file, out = None, process_func = process_next_bit, finalize_func = finalize):\n",
    "    if out is None:\n",
    "        stdout = sys.stdout\n",
    "    else:\n",
    "        stdout = open(out, \"w\")\n",
    "\n",
    "    with open(input_file, \"r\") as in_file:\n",
    "        init_letters()\n",
    "        for line in in_file:\n",
    "            for bit in line:\n",
    "                if bit in [\" \", \"\\n\"]:\n",
    "                    continue\n",
    "\n",
    "                bit = int(bit)\n",
    "                \n",
    "                letter = process_func(bit)\n",
    "\n",
    "                if letter is not None:\n",
    "                    print(letter, end = \"\", file = stdout)\n",
    "                    \n",
    "        print(finalize_func(), file = stdout)\n",
    "\n",
    "    if out is not None:\n",
    "        stdout.close()\n",
    "        "
   ]
  },
  {
   "cell_type": "code",
   "execution_count": 15,
   "metadata": {},
   "outputs": [],
   "source": [
    "from pathlib import Path\n",
    "import time"
   ]
  },
  {
   "cell_type": "code",
   "execution_count": 16,
   "metadata": {},
   "outputs": [],
   "source": [
    "'''\n",
    "Basic Test Template to make other tests out of\n",
    "'''\n",
    "def translate_test(in_file, golden_file, result_file = None, time_it = False, **kwargs):\n",
    "    if result_file is None:\n",
    "        dot_split = in_file.split(\".\")\n",
    "        result_file = \"{}_out.{}\".format(\"\".join(dot_split[:-1]), dot_split[-1])\n",
    "    \n",
    "    timing = time.time()\n",
    "\n",
    "    translate(in_file, out=result_file, **kwargs)\n",
    "\n",
    "    if time_it:\n",
    "        timing = time.time() - timing\n",
    "    else:\n",
    "        timing = 0\n",
    "\n",
    "    correct_output = True\n",
    "\n",
    "    with open(result_file, \"r\") as results:\n",
    "        with open(golden_file, \"r\") as golden:\n",
    "            next_result = results.readline().strip().lower()\n",
    "            next_golden = golden.readline().strip().lower()\n",
    "\n",
    "            while next_result != \"\" and next_golden != \"\":\n",
    "                if next_result != next_golden:\n",
    "                    print(f\"'{next_result}' does not match '{next_golden}'\")\n",
    "                    correct_output = False\n",
    "                    break\n",
    "                next_result = results.readline()\n",
    "                next_golden = golden.readline()\n",
    "\n",
    "            if next_result != next_golden:\n",
    "                print(f\"One was empty:\\n'{next_result}' does not match '{next_golden}'\")\n",
    "                correct_output = False\n",
    "            \n",
    "#     Path(result_file).unlink()\n",
    "\n",
    "    if correct_output:\n",
    "        timing_statement = \"\" if not time_it else f\" in {timing:4.2} seconds\"\n",
    "        print(f\"Successfully translated {in_file}{timing_statement}\")\n",
    "\n",
    "    return correct_output\n",
    "                 \n"
   ]
  },
  {
   "cell_type": "code",
   "execution_count": 17,
   "metadata": {},
   "outputs": [
    {
     "name": "stdout",
     "output_type": "stream",
     "text": [
      "Successfully translated decoder_tests/test1.txt in 0.016 seconds\n"
     ]
    }
   ],
   "source": [
    "'''\n",
    "Tests if the alphabet with no spaces is accurate\n",
    "'''\n",
    "def test1():\n",
    "    translate_test(\"decoder_tests/test1.txt\", \"decoder_tests/golden_out1.txt\", time_it = True)\n",
    "    \n",
    "test1()"
   ]
  },
  {
   "cell_type": "code",
   "execution_count": 18,
   "metadata": {},
   "outputs": [
    {
     "name": "stdout",
     "output_type": "stream",
     "text": [
      "Successfully translated decoder_tests/test2.txt in 0.013 seconds\n"
     ]
    }
   ],
   "source": [
    "'''\n",
    "Tests if the alphabet with 1 space is accuate\n",
    "'''\n",
    "def test2():\n",
    "    translate_test(\"decoder_tests/test2.txt\", \"decoder_tests/golden_out2_3.txt\", time_it = True)\n",
    "\n",
    "test2()"
   ]
  },
  {
   "cell_type": "code",
   "execution_count": 19,
   "metadata": {},
   "outputs": [
    {
     "name": "stdout",
     "output_type": "stream",
     "text": [
      "Successfully translated decoder_tests/test3.txt in 0.014 seconds\n"
     ]
    }
   ],
   "source": [
    "'''\n",
    "Tests if multiple spaces are ommitted\n",
    "'''\n",
    "def test3():\n",
    "    translate_test(\"decoder_tests/test3.txt\", \"decoder_tests/golden_out2_3.txt\", time_it = True)\n",
    "\n",
    "test3()"
   ]
  },
  {
   "cell_type": "code",
   "execution_count": 20,
   "metadata": {},
   "outputs": [
    {
     "name": "stdout",
     "output_type": "stream",
     "text": [
      "Successfully translated decoder_tests/test4.txt in 0.014 seconds\n"
     ]
    }
   ],
   "source": [
    "'''\n",
    "Tests the \"the quick brown fox jumps over the lazy dog\"\n",
    "'''\n",
    "def test4():\n",
    "    translate_test(\"decoder_tests/test4.txt\", \"decoder_tests/golden_out4.txt\", time_it = True)\n",
    "\n",
    "test4()"
   ]
  },
  {
   "cell_type": "code",
   "execution_count": 79,
   "metadata": {},
   "outputs": [
    {
     "name": "stdout",
     "output_type": "stream",
     "text": [
      "[1, 0, 1, 1, 1, 0, 0, 0]\n",
      "in_bits [1 0 1 1 1 0 0 0]\n",
      "output [0 0 0 0 0 0 0 0]\n",
      "'\u0000\u0000\u0000\u0000\u0000\u0000\u0000\u0000' does not match 'a'\n",
      "One was empty:\n",
      "'\u0000\u0000\u0000\u0000\u0000\u0000\u0000\u0000' does not match 'a'\n"
     ]
    }
   ],
   "source": [
    "def testA_hw():\n",
    "    translate_test(\"decoder_tests/untitled.txt\", \"decoder_tests/untitled1.txt\", time_it = True, process_func = process_hw, finalize_func = finalize_hw)\n",
    "testA_hw()"
   ]
  },
  {
   "cell_type": "code",
   "execution_count": 80,
   "metadata": {},
   "outputs": [
    {
     "name": "stdout",
     "output_type": "stream",
     "text": [
      "[1, 0, 1, 1, 1, 0, 0, 0, 1, 1, 1, 0, 1, 0, 1, 0, 1, 0, 0, 0, 1, 1, 1, 0, 1, 0, 1, 1, 1, 0, 1, 0, 0, 0, 1, 1, 1, 0, 1, 0, 1, 0, 0, 0, 1, 0, 0, 0, 1, 0, 1, 0, 1, 1, 1, 0, 1, 0, 0, 0, 1, 1, 1, 0, 1, 1, 1, 0, 1, 0, 0, 0, 1, 0, 1, 0, 1, 0, 1, 0, 0, 0, 1, 0, 1, 0, 0, 0, 1, 0, 1, 1, 1, 0, 1, 1, 1, 0, 1, 1]\n",
      "in_bits [1 0 1 1 1 0 0 0 1 1 1 0 1 0 1 0 1 0 0 0 1 1 1 0 1 0 1 1 1 0 1 0 0 0 1 1 1\n",
      " 0 1 0 1 0 0 0 1 0 0 0 1 0 1 0 1 1 1 0 1 0 0 0 1 1 1 0 1 1 1 0 1 0 0 0 1 0\n",
      " 1 0 1 0 1 0 0 0 1 0 1 0 0 0 1 0 1 1 1 0 1 1 1 0 1 1]\n",
      "output [0 0 0 0 0 0 0 0 0 0 0 0 0 0 0 0 0 0 0 0 0 0 0 0 0 0 0 0 0 0 0 0 0 0 0 0 0\n",
      " 0 0 0 0 0 0 0 0 0 0 0 0 0 0 0 0 0 0 0 0 0 0 0 0 0 0 0 0 0 0 0 0 0 0 0 0 0\n",
      " 0 0 0 0 0 0 0 0 0 0 0 0 0 0 0 0 0 0 0 0 0 0 0 0 0 0]\n",
      "[0, 0, 0, 1, 1, 1, 0, 1, 0, 1, 1, 1, 0, 0, 0, 1, 0, 1, 1, 1, 0, 1, 0, 1, 0, 0, 0, 1, 1, 1, 0, 1, 1, 1, 0, 0, 0, 1, 1, 1, 0, 1, 0, 0, 0, 1, 1, 1, 0, 1, 1, 1, 0, 1, 1, 1, 0, 0, 0, 1, 0, 1, 1, 1, 0, 1, 1, 1, 0, 1, 0, 0, 0, 1, 1, 1, 0, 1, 1, 1, 0, 1, 0, 1, 1, 1, 0, 0, 0, 1, 0, 1, 1, 1, 0, 1, 0, 0, 0, 1]\n",
      "in_bits [0 0 0 1 1 1 0 1 0 1 1 1 0 0 0 1 0 1 1 1 0 1 0 1 0 0 0 1 1 1 0 1 1 1 0 0 0\n",
      " 1 1 1 0 1 0 0 0 1 1 1 0 1 1 1 0 1 1 1 0 0 0 1 0 1 1 1 0 1 1 1 0 1 0 0 0 1\n",
      " 1 1 0 1 1 1 0 1 0 1 1 1 0 0 0 1 0 1 1 1 0 1 0 0 0 1]\n",
      "output [1 0 0 0 0 0 0 0 0 0 0 0 0 0 0 0 0 0 0 0 0 0 0 0 0 0 0 0 0 0 0 0 0 0 0 0 0\n",
      " 0 0 0 0 0 0 0 0 0 0 0 0 0 0 0 0 0 0 0 0 0 0 0 0 0 0 0 0 0 0 0 0 0 0 0 0 0\n",
      " 0 0 0 0 0 0 0 0 0 0 0 0 0 0 0 0 0 0 0 0 0 0 0 0 0 0]\n",
      "[1, 0, 1, 0, 0, 0, 1, 1, 1, 0, 0, 0, 1, 0, 1, 0, 1, 1, 1, 0, 0, 0, 1, 0, 1, 0, 1, 0, 1, 1, 1, 0, 0, 0, 1, 0, 1, 1, 1, 0, 1, 1, 1, 0, 0, 0, 1, 1, 1, 0, 1, 0, 1, 0, 1, 1, 1, 0, 0, 0, 1, 1, 1, 0, 1, 0, 1, 1, 1, 0, 1, 1, 1, 0, 0, 0, 1, 1, 1, 0, 1, 1, 1, 0, 1, 0, 1, 0, 0, 0]\n",
      "in_bits [1 0 1 0 0 0 1 1 1 0 0 0 1 0 1 0 1 1 1 0 0 0 1 0 1 0 1 0 1 1 1 0 0 0 1 0 1\n",
      " 1 1 0 1 1 1 0 0 0 1 1 1 0 1 0 1 0 1 1 1 0 0 0 1 1 1 0 1 0 1 1 1 0 1 1 1 0\n",
      " 0 0 1 1 1 0 1 1 1 0 1 0 1 0 0 0]\n",
      "output [1 0 0 0 0 0 0 0 0 0 0 0 0 0 0 0 0 0 0 0 0 0 0 0 0 0 0 0 0 0 0 0 0 0 0 0 0\n",
      " 0 0 0 0 0 0 0 0 0 0 0 0 0 0 0 0 0 0 0 0 0 0 0 0 0 0 0 0 0 0 0 0 0 0 0 0 0\n",
      " 0 0 0 0 0 0 0 0 0 0 0 0 0 0 0 0]\n",
      "'\u0000\u0000\u0000\u0000\u0000\u0000\u0000\u0000\u0000\u0000\u0000\u0000\u0000\u0000\u0000\u0000\u0000\u0000\u0000\u0000\u0000\u0000\u0000\u0000\u0000\u0000\u0000\u0000\u0000\u0000\u0000\u0000\u0000\u0000\u0000\u0000\u0000\u0000\u0000\u0000\u0000\u0000\u0000\u0000\u0000\u0000\u0000\u0000\u0000\u0000\u0000\u0000\u0000\u0000\u0000\u0000\u0000\u0000\u0000\u0000\u0000\u0000\u0000\u0000\u0000\u0000\u0000\u0000\u0000\u0000\u0000\u0000\u0000\u0000\u0000\u0000\u0000\u0000\u0000\u0000\u0000\u0000\u0000\u0000\u0000\u0000\u0000\u0000\u0000\u0000\u0000\u0000\u0000\u0000\u0000\u0000\u0000\u0000\u0000\u0000\u0001\u0000\u0000\u0000\u0000\u0000\u0000\u0000\u0000\u0000\u0000\u0000\u0000\u0000\u0000\u0000\u0000\u0000\u0000\u0000\u0000\u0000\u0000\u0000\u0000\u0000\u0000\u0000\u0000\u0000\u0000\u0000\u0000\u0000\u0000\u0000\u0000\u0000\u0000\u0000\u0000\u0000\u0000\u0000\u0000\u0000\u0000\u0000\u0000\u0000\u0000\u0000\u0000\u0000\u0000\u0000\u0000\u0000\u0000\u0000\u0000\u0000\u0000\u0000\u0000\u0000\u0000\u0000\u0000\u0000\u0000\u0000\u0000\u0000\u0000\u0000\u0000\u0000\u0000\u0000\u0000\u0000\u0000\u0000\u0000\u0000\u0000\u0000\u0000\u0000\u0000\u0000\u0000\u0000\u0000\u0000\u0000\u0000\u0000\u0000\u0001\u0000\u0000\u0000\u0000\u0000\u0000\u0000\u0000\u0000\u0000\u0000\u0000\u0000\u0000\u0000\u0000\u0000\u0000\u0000\u0000\u0000\u0000\u0000\u0000\u0000\u0000\u0000\u0000\u0000\u0000\u0000\u0000\u0000\u0000\u0000\u0000\u0000\u0000\u0000\u0000\u0000\u0000\u0000\u0000\u0000\u0000\u0000\u0000\u0000\u0000\u0000\u0000\u0000\u0000\u0000\u0000\u0000\u0000\u0000\u0000\u0000\u0000\u0000\u0000\u0000\u0000\u0000\u0000\u0000\u0000\u0000\u0000\u0000\u0000\u0000\u0000\u0000\u0000\u0000\u0000\u0000\u0000\u0000\u0000\u0000\u0000\u0000\u0000\u0000' does not match 'abcdefghijklmnopqrstuvwxyz'\n",
      "One was empty:\n",
      "'\u0000\u0000\u0000\u0000\u0000\u0000\u0000\u0000\u0000\u0000\u0000\u0000\u0000\u0000\u0000\u0000\u0000\u0000\u0000\u0000\u0000\u0000\u0000\u0000\u0000\u0000\u0000\u0000\u0000\u0000\u0000\u0000\u0000\u0000\u0000\u0000\u0000\u0000\u0000\u0000\u0000\u0000\u0000\u0000\u0000\u0000\u0000\u0000\u0000\u0000\u0000\u0000\u0000\u0000\u0000\u0000\u0000\u0000\u0000\u0000\u0000\u0000\u0000\u0000\u0000\u0000\u0000\u0000\u0000\u0000\u0000\u0000\u0000\u0000\u0000\u0000\u0000\u0000\u0000\u0000\u0000\u0000\u0000\u0000\u0000\u0000\u0000\u0000\u0000\u0000\u0000\u0000\u0000\u0000\u0000\u0000\u0000\u0000\u0000\u0000\u0001\u0000\u0000\u0000\u0000\u0000\u0000\u0000\u0000\u0000\u0000\u0000\u0000\u0000\u0000\u0000\u0000\u0000\u0000\u0000\u0000\u0000\u0000\u0000\u0000\u0000\u0000\u0000\u0000\u0000\u0000\u0000\u0000\u0000\u0000\u0000\u0000\u0000\u0000\u0000\u0000\u0000\u0000\u0000\u0000\u0000\u0000\u0000\u0000\u0000\u0000\u0000\u0000\u0000\u0000\u0000\u0000\u0000\u0000\u0000\u0000\u0000\u0000\u0000\u0000\u0000\u0000\u0000\u0000\u0000\u0000\u0000\u0000\u0000\u0000\u0000\u0000\u0000\u0000\u0000\u0000\u0000\u0000\u0000\u0000\u0000\u0000\u0000\u0000\u0000\u0000\u0000\u0000\u0000\u0000\u0000\u0000\u0000\u0000\u0000\u0001\u0000\u0000\u0000\u0000\u0000\u0000\u0000\u0000\u0000\u0000\u0000\u0000\u0000\u0000\u0000\u0000\u0000\u0000\u0000\u0000\u0000\u0000\u0000\u0000\u0000\u0000\u0000\u0000\u0000\u0000\u0000\u0000\u0000\u0000\u0000\u0000\u0000\u0000\u0000\u0000\u0000\u0000\u0000\u0000\u0000\u0000\u0000\u0000\u0000\u0000\u0000\u0000\u0000\u0000\u0000\u0000\u0000\u0000\u0000\u0000\u0000\u0000\u0000\u0000\u0000\u0000\u0000\u0000\u0000\u0000\u0000\u0000\u0000\u0000\u0000\u0000\u0000\u0000\u0000\u0000\u0000\u0000\u0000\u0000\u0000\u0000\u0000\u0000\u0000' does not match 'abcdefghijklmnopqrstuvwxyz'\n"
     ]
    }
   ],
   "source": [
    "def test1_hw():\n",
    "    translate_test(\"decoder_tests/test1.txt\", \"decoder_tests/golden_out1.txt\", time_it = True, process_func = process_hw, finalize_func = finalize_hw)\n",
    "    \n",
    "test1_hw()"
   ]
  },
  {
   "cell_type": "code",
   "execution_count": null,
   "metadata": {},
   "outputs": [],
   "source": []
  }
 ],
 "metadata": {
  "kernelspec": {
   "display_name": "Python 3 (ipykernel)",
   "language": "python",
   "name": "python3"
  },
  "language_info": {
   "codemirror_mode": {
    "name": "ipython",
    "version": 3
   },
   "file_extension": ".py",
   "mimetype": "text/x-python",
   "name": "python",
   "nbconvert_exporter": "python",
   "pygments_lexer": "ipython3",
   "version": "3.10.4"
  }
 },
 "nbformat": 4,
 "nbformat_minor": 2
}
